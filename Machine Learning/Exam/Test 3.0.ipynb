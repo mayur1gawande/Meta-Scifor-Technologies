{
 "cells": [
  {
   "cell_type": "markdown",
   "id": "bdb2ee5e",
   "metadata": {},
   "source": [
    "## Test 3.0\n"
   ]
  },
  {
   "cell_type": "code",
   "execution_count": null,
   "id": "9ea78eeb",
   "metadata": {},
   "outputs": [],
   "source": []
  },
  {
   "cell_type": "raw",
   "id": "f91e1f0a",
   "metadata": {},
   "source": [
    "Write a Python program to check whether a number is even or odd using if-else."
   ]
  },
  {
   "cell_type": "code",
   "execution_count": 1,
   "id": "256980f3",
   "metadata": {},
   "outputs": [
    {
     "name": "stdout",
     "output_type": "stream",
     "text": [
      "Number is even\n"
     ]
    }
   ],
   "source": [
    "number = 10\n",
    "\n",
    "if number%2==0:\n",
    "    print('Number is even')\n",
    "else:\n",
    "    print('Number is odd')"
   ]
  },
  {
   "cell_type": "raw",
   "id": "a0e3a554",
   "metadata": {},
   "source": [
    "Write a for loop that prints numbers from 10 to 1 in reverse"
   ]
  },
  {
   "cell_type": "code",
   "execution_count": 2,
   "id": "e9ad4e5d",
   "metadata": {},
   "outputs": [
    {
     "name": "stdout",
     "output_type": "stream",
     "text": [
      "10\n",
      "9\n",
      "8\n",
      "7\n",
      "6\n",
      "5\n",
      "4\n",
      "3\n",
      "2\n",
      "1\n"
     ]
    }
   ],
   "source": [
    "for x in range(10,0,-1):\n",
    "    print(x)"
   ]
  },
  {
   "cell_type": "raw",
   "id": "589596de",
   "metadata": {},
   "source": [
    "Write a while loop that keeps asking the user to input a number until they enter 0."
   ]
  },
  {
   "cell_type": "code",
   "execution_count": 3,
   "id": "b0279e4c",
   "metadata": {},
   "outputs": [
    {
     "name": "stdout",
     "output_type": "stream",
     "text": [
      "Entered: 4\n",
      "Entered: 7\n",
      "Exiting the while loop\n"
     ]
    }
   ],
   "source": [
    "while(True):\n",
    "    val = int(input())\n",
    "    if val == 0:\n",
    "        print('Exiting the while loop')\n",
    "        break\n",
    "    else:\n",
    "        print(f'Entered: {val}')"
   ]
  },
  {
   "cell_type": "raw",
   "id": "e17f026e",
   "metadata": {},
   "source": [
    "Write a function that accepts two numbers and returns their sum."
   ]
  },
  {
   "cell_type": "code",
   "execution_count": 4,
   "id": "49132598",
   "metadata": {},
   "outputs": [
    {
     "data": {
      "text/plain": [
       "40"
      ]
     },
     "execution_count": 4,
     "metadata": {},
     "output_type": "execute_result"
    }
   ],
   "source": [
    "def add(a,b):\n",
    "    return a+b\n",
    "\n",
    "add(10,30)"
   ]
  },
  {
   "cell_type": "raw",
   "id": "cae99b95",
   "metadata": {
    "vscode": {
     "languageId": "raw"
    }
   },
   "source": [
    "What will be the output of this code: print(list(map(lambda x: x*x, [1, 2, 3])))?"
   ]
  },
  {
   "cell_type": "code",
   "execution_count": 5,
   "id": "20c6ce60",
   "metadata": {},
   "outputs": [
    {
     "data": {
      "text/plain": [
       "[1, 4, 9]"
      ]
     },
     "execution_count": 5,
     "metadata": {},
     "output_type": "execute_result"
    }
   ],
   "source": [
    "[1,4,9]"
   ]
  },
  {
   "cell_type": "raw",
   "id": "033b1be4",
   "metadata": {},
   "source": [
    "Use the filter() function to extract only even numbers from a list."
   ]
  },
  {
   "cell_type": "code",
   "execution_count": 6,
   "id": "8716b707",
   "metadata": {},
   "outputs": [
    {
     "data": {
      "text/plain": [
       "[6, 8, 54]"
      ]
     },
     "execution_count": 6,
     "metadata": {},
     "output_type": "execute_result"
    }
   ],
   "source": [
    "def is_even(a):\n",
    "    if a%2==0:\n",
    "        return a\n",
    "\n",
    "list(filter(is_even,[5,6,8,123,54,67]))"
   ]
  },
  {
   "cell_type": "markdown",
   "id": "f2270173",
   "metadata": {},
   "source": [
    "Explain the purpose of the else block in a try-except-else construct."
   ]
  },
  {
   "cell_type": "code",
   "execution_count": 7,
   "id": "c83d36e9",
   "metadata": {},
   "outputs": [
    {
     "data": {
      "text/plain": [
       "'Else block is executed when the try block is completely \\nexecuted without any error/exception'"
      ]
     },
     "execution_count": 7,
     "metadata": {},
     "output_type": "execute_result"
    }
   ],
   "source": [
    "'''Else block is executed when the try block is completely \n",
    "executed without any error/exception'''"
   ]
  },
  {
   "cell_type": "raw",
   "id": "d72612b0",
   "metadata": {},
   "source": [
    "Write a try-except block to handle division by zero."
   ]
  },
  {
   "cell_type": "code",
   "execution_count": 8,
   "id": "887af7c3",
   "metadata": {},
   "outputs": [
    {
     "name": "stdout",
     "output_type": "stream",
     "text": [
      "Cannot Divide by zero\n"
     ]
    }
   ],
   "source": [
    "def divide(a,b):\n",
    "    try:\n",
    "        c = a/b\n",
    "        return c\n",
    "    except ZeroDivisionError:\n",
    "        print('Cannot Divide by zero')\n",
    "\n",
    "divide(10,0)"
   ]
  },
  {
   "cell_type": "raw",
   "id": "f13a480f",
   "metadata": {},
   "source": [
    "What is the output of this lambda function? print((lambda x, y: x+y)(5, 3))"
   ]
  },
  {
   "cell_type": "code",
   "execution_count": 9,
   "id": "93c08075",
   "metadata": {},
   "outputs": [],
   "source": [
    "# Output of this lambda function is 8, because this adds the two values"
   ]
  },
  {
   "cell_type": "raw",
   "id": "bdddf4c4",
   "metadata": {},
   "source": [
    "Define a class named Dog with properties name and breed. Add a method bark()."
   ]
  },
  {
   "cell_type": "code",
   "execution_count": 10,
   "id": "1ebda62c",
   "metadata": {},
   "outputs": [],
   "source": [
    "class Dog:\n",
    "    def __init__(self,name,breed):\n",
    "        self.name = name\n",
    "        self.breed = breed\n",
    "    \n",
    "    def bark(self):\n",
    "        print('Bhaw...Bhaw...')"
   ]
  },
  {
   "cell_type": "raw",
   "id": "9223ccfa",
   "metadata": {},
   "source": [
    "Create two objects of the Dog class and call their methods."
   ]
  },
  {
   "cell_type": "code",
   "execution_count": 11,
   "id": "7f66b4ed",
   "metadata": {},
   "outputs": [
    {
     "name": "stdout",
     "output_type": "stream",
     "text": [
      "Bhaw...Bhaw...\n",
      "Bhaw...Bhaw...\n"
     ]
    }
   ],
   "source": [
    "dog_a = Dog('Tommy','German-shephard')\n",
    "dog_b = Dog('Jerry','Labrador')\n",
    "\n",
    "dog_a.bark()\n",
    "dog_b.bark()"
   ]
  },
  {
   "cell_type": "raw",
   "id": "46358e90",
   "metadata": {},
   "source": [
    "What is the difference between class variables and instance variables?"
   ]
  },
  {
   "cell_type": "code",
   "execution_count": 12,
   "id": "ef9ce8a8",
   "metadata": {},
   "outputs": [],
   "source": [
    "# Class variables are usable throughout the class of the program,they are defined in the '__init__' constructor\n",
    "# while instance variables are limited to function or conditional-statements, and cannot be used outside it"
   ]
  },
  {
   "cell_type": "raw",
   "id": "c3238a89",
   "metadata": {},
   "source": [
    "What will this print: print(\"apple\" if 5 > 3 else \"banana\")?"
   ]
  },
  {
   "cell_type": "code",
   "execution_count": 13,
   "id": "2e5cfd9a",
   "metadata": {},
   "outputs": [
    {
     "data": {
      "text/plain": [
       "'apple'"
      ]
     },
     "execution_count": 13,
     "metadata": {},
     "output_type": "execute_result"
    }
   ],
   "source": [
    "\"apple\""
   ]
  },
  {
   "cell_type": "raw",
   "id": "a520dafc",
   "metadata": {},
   "source": [
    "Write a function that accepts a list and returns the list of squares using list comprehension."
   ]
  },
  {
   "cell_type": "code",
   "execution_count": 14,
   "id": "0a6bc8c5",
   "metadata": {},
   "outputs": [
    {
     "data": {
      "text/plain": [
       "[4, 9, 16, 25, 36]"
      ]
     },
     "execution_count": 14,
     "metadata": {},
     "output_type": "execute_result"
    }
   ],
   "source": [
    "def square(a:list):\n",
    "    return [x**2 for x in a]\n",
    "a = [2,3,4,5,6]\n",
    "square(a)"
   ]
  },
  {
   "cell_type": "raw",
   "id": "56654a24",
   "metadata": {},
   "source": [
    "Explain what map() and filter() return when executed."
   ]
  },
  {
   "cell_type": "code",
   "execution_count": 15,
   "id": "04642561",
   "metadata": {},
   "outputs": [],
   "source": [
    "# map() returns the all list of values with applied operations\n",
    "# filter() returns the list of values which satisfies the given condition"
   ]
  },
  {
   "cell_type": "code",
   "execution_count": 16,
   "id": "5c3ec24b",
   "metadata": {},
   "outputs": [],
   "source": [
    "import numpy as np"
   ]
  },
  {
   "cell_type": "markdown",
   "id": "d1b7d7c8",
   "metadata": {},
   "source": [
    "### Numpy"
   ]
  },
  {
   "cell_type": "raw",
   "id": "d18477a9",
   "metadata": {},
   "source": [
    "Create a 3x3 matrix using np.random.randint(0, 10, (3, 3))."
   ]
  },
  {
   "cell_type": "code",
   "execution_count": 17,
   "id": "a0324c7e",
   "metadata": {},
   "outputs": [
    {
     "data": {
      "text/plain": [
       "array([[9, 2, 2],\n",
       "       [6, 9, 6],\n",
       "       [3, 6, 6]], dtype=int32)"
      ]
     },
     "execution_count": 17,
     "metadata": {},
     "output_type": "execute_result"
    }
   ],
   "source": [
    "mat = np.random.randint(0,10,(3,3))\n",
    "mat"
   ]
  },
  {
   "cell_type": "raw",
   "id": "68d9a258",
   "metadata": {},
   "source": [
    "Slice the above matrix to extract the first two rows."
   ]
  },
  {
   "cell_type": "code",
   "execution_count": 18,
   "id": "08081bab",
   "metadata": {},
   "outputs": [
    {
     "data": {
      "text/plain": [
       "array([[9, 2, 2],\n",
       "       [6, 9, 6]], dtype=int32)"
      ]
     },
     "execution_count": 18,
     "metadata": {},
     "output_type": "execute_result"
    }
   ],
   "source": [
    "mat[:2]"
   ]
  },
  {
   "cell_type": "markdown",
   "id": "0030743a",
   "metadata": {},
   "source": [
    "Combine two 3x3 matrices using np.concatenate along axis 0 and axis 1."
   ]
  },
  {
   "cell_type": "code",
   "execution_count": 19,
   "id": "9bbfecf6",
   "metadata": {},
   "outputs": [
    {
     "name": "stdout",
     "output_type": "stream",
     "text": [
      "Along axis = 0 : \n",
      " [[1 0 3]\n",
      " [6 2 1]\n",
      " [6 8 0]\n",
      " [7 7 7]\n",
      " [4 8 7]\n",
      " [5 1 6]]\n",
      "\n",
      "Along axis = 1 : \n",
      " [[1 0 3 7 7 7]\n",
      " [6 2 1 4 8 7]\n",
      " [6 8 0 5 1 6]]\n"
     ]
    }
   ],
   "source": [
    "mat_a = np.random.randint(0,10,(3,3))\n",
    "mat_b = np.random.randint(0,10,(3,3))\n",
    "\n",
    "print('Along axis = 0 : \\n',np.concatenate((mat_a,mat_b)))\n",
    "print('\\nAlong axis = 1 : \\n',np.concatenate((mat_a,mat_b),axis=1))"
   ]
  },
  {
   "cell_type": "raw",
   "id": "2db85140",
   "metadata": {},
   "source": [
    "Perform element-wise addition, subtraction, and multiplication of two matrices."
   ]
  },
  {
   "cell_type": "code",
   "execution_count": 20,
   "id": "6f3b90e9",
   "metadata": {},
   "outputs": [
    {
     "name": "stdout",
     "output_type": "stream",
     "text": [
      "Addition: \n",
      " [[10  2  5]\n",
      " [12 11  7]\n",
      " [ 9 14  6]]\n",
      "\n",
      "Subtraction: \n",
      " [[-8 -2  1]\n",
      " [ 0 -7 -5]\n",
      " [ 3  2 -6]]\n",
      "\n",
      "Multiplication: \n",
      " [[ 9  0  6]\n",
      " [36 18  6]\n",
      " [18 48  0]]\n"
     ]
    }
   ],
   "source": [
    "print('Addition: \\n',mat_a + mat)\n",
    "print('\\nSubtraction: \\n',mat_a - mat)\n",
    "print('\\nMultiplication: \\n',mat_a * mat)"
   ]
  },
  {
   "cell_type": "raw",
   "id": "5acf9813",
   "metadata": {},
   "source": [
    "Demonstrate broadcasting by adding a 1D array to a 2D array."
   ]
  },
  {
   "cell_type": "code",
   "execution_count": 21,
   "id": "97985e99",
   "metadata": {},
   "outputs": [
    {
     "data": {
      "text/plain": [
       "array([[11, 13, 15,  7],\n",
       "       [10,  7, 12, 10]])"
      ]
     },
     "execution_count": 21,
     "metadata": {},
     "output_type": "execute_result"
    }
   ],
   "source": [
    "one_d = np.array([4,5,6,7])\n",
    "two_d = np.array([[7,8,9,0],[6,2,6,3]])\n",
    "broad_cast = two_d + one_d\n",
    "\n",
    "broad_cast #[4,5,6,7] is added by row"
   ]
  },
  {
   "cell_type": "raw",
   "id": "d4a90b42",
   "metadata": {},
   "source": [
    "Use np.clip to limit values in a matrix to a minimum of 2 and maximum of 8."
   ]
  },
  {
   "cell_type": "code",
   "execution_count": 22,
   "id": "6d56ccb1",
   "metadata": {},
   "outputs": [
    {
     "data": {
      "text/plain": [
       "array([[7, 8, 8, 2],\n",
       "       [6, 2, 6, 3]])"
      ]
     },
     "execution_count": 22,
     "metadata": {},
     "output_type": "execute_result"
    }
   ],
   "source": [
    "clipped = np.clip(two_d,a_max=8,a_min=2)\n",
    "clipped"
   ]
  },
  {
   "cell_type": "raw",
   "id": "4a1ae5f5",
   "metadata": {},
   "source": [
    "Use np.ceil on an array of floating-point numbers [1.2, 2.5, 3.8]."
   ]
  },
  {
   "cell_type": "code",
   "execution_count": 23,
   "id": "e94a509e",
   "metadata": {},
   "outputs": [
    {
     "data": {
      "text/plain": [
       "array([2., 3., 4.])"
      ]
     },
     "execution_count": 23,
     "metadata": {},
     "output_type": "execute_result"
    }
   ],
   "source": [
    "np.ceil([1.2, 2.5, 3.8])"
   ]
  },
  {
   "cell_type": "raw",
   "id": "ec39504d",
   "metadata": {},
   "source": [
    "Use np.where to replace all elements greater than 5 with 100 in a given array."
   ]
  },
  {
   "cell_type": "code",
   "execution_count": 27,
   "id": "61df0ab6",
   "metadata": {},
   "outputs": [
    {
     "data": {
      "text/plain": [
       "array([[100,   2,   2],\n",
       "       [100, 100, 100],\n",
       "       [  3, 100, 100]], dtype=int32)"
      ]
     },
     "execution_count": 27,
     "metadata": {},
     "output_type": "execute_result"
    }
   ],
   "source": [
    "new_mat = np.where(mat<5,mat,100)\n",
    "new_mat"
   ]
  },
  {
   "cell_type": "raw",
   "id": "1d797f53",
   "metadata": {},
   "source": [
    "Create two 2x2 matrices and compute their dot product."
   ]
  },
  {
   "cell_type": "code",
   "execution_count": 25,
   "id": "987a6a84",
   "metadata": {},
   "outputs": [
    {
     "data": {
      "text/plain": [
       "array([[34, 45],\n",
       "       [52, 69]])"
      ]
     },
     "execution_count": 25,
     "metadata": {},
     "output_type": "execute_result"
    }
   ],
   "source": [
    "a = np.array([[3,4],[5,6]])\n",
    "b = np.array([[2,3],[7,9]])\n",
    "np.dot(a,b)"
   ]
  },
  {
   "cell_type": "raw",
   "id": "8b1747c5",
   "metadata": {},
   "source": [
    "What is the difference between np.array([1, 2, 3]) and np.array([[1, 2, 3]])?"
   ]
  },
  {
   "cell_type": "code",
   "execution_count": 26,
   "id": "101e2e98",
   "metadata": {},
   "outputs": [],
   "source": [
    "# The first array is a one dimensional array\n",
    "# Second array is a two dimensional array"
   ]
  },
  {
   "cell_type": "raw",
   "id": "f99a5cea",
   "metadata": {},
   "source": [
    "All the Best \n",
    "*Submit Before 10 PM* "
   ]
  }
 ],
 "metadata": {
  "kernelspec": {
   "display_name": "Python 3",
   "language": "python",
   "name": "python3"
  },
  "language_info": {
   "codemirror_mode": {
    "name": "ipython",
    "version": 3
   },
   "file_extension": ".py",
   "mimetype": "text/x-python",
   "name": "python",
   "nbconvert_exporter": "python",
   "pygments_lexer": "ipython3",
   "version": "3.11.4"
  }
 },
 "nbformat": 4,
 "nbformat_minor": 5
}
