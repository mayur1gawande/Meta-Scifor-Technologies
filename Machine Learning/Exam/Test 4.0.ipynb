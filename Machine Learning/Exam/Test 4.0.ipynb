{
 "cells": [
  {
   "cell_type": "raw",
   "id": "30b211db",
   "metadata": {},
   "source": [
    "Note: All mathematics and calculations must be done using Python code. Do not solve using pen and paper."
   ]
  },
  {
   "cell_type": "markdown",
   "id": "cda4d873",
   "metadata": {},
   "source": [
    "## Section A: Descriptive Statistics (30 Marks)\n",
    "#### Answer any 6 questions. Each question carries 5 marks."
   ]
  },
  {
   "cell_type": "markdown",
   "id": "16ee1374",
   "metadata": {
    "jupyter": {
     "source_hidden": true
    },
    "tags": []
   },
   "source": [
    "1- Define the following terms with examples:\n",
    "\n",
    "    a) Mean\n",
    "\n",
    "    b) Median\n",
    "\n",
    "    c) Mode\n",
    "\n",
    "2- Explain the difference between standard deviation and variance. How do they measure data dispersion?\n",
    "\n",
    "3- What are the different types of variables in statistics? Give one example each.\n",
    "\n",
    "4- What is the Central Limit Theorem? Why is it important in statistics?\n",
    "\n",
    "5- Explain the difference between dependent and independent variables using a real-world example.\n",
    "\n",
    "6- What are the measures of dispersion in descriptive statistics? Define each briefly.\n",
    "\n",
    "7- Using the following data, calculate:\n",
    "\n",
    "    Mean\n",
    "\n",
    "    Median\n",
    "\n",
    "    Variance\n",
    "\n",
    "    Standard Deviation\n",
    "\n",
    "    \n",
    "Data: [12, 15, 14, 10, 8, 9, 10, 15, 18, 20]\n",
    "\n"
   ]
  },
  {
   "cell_type": "markdown",
   "id": "4f383b62",
   "metadata": {},
   "source": [
    "## Section B: Data Visualization using Seaborn & Matplotlib (40 Marks)\n",
    "\n",
    "#### Answer any 8 questions. Each question carries 5 marks."
   ]
  },
  {
   "cell_type": "markdown",
   "id": "7bb35b56",
   "metadata": {},
   "source": [
    "- Use Python with Seaborn/Matplotlib to answer the following. You may use the tips, iris, or penguins dataset from Seaborn.\n",
    "\n",
    "\n"
   ]
  },
  {
   "cell_type": "raw",
   "id": "6298e017",
   "metadata": {},
   "source": [
    "import seaborn as sns\n",
    "import matplotlib.pyplot as plt\n",
    "\n",
    "tips = sns.load_dataset(\"tips\")\n",
    "iris = sns.load_dataset(\"iris\")\n",
    "penguins = sns.load_dataset(\"penguins\")\n"
   ]
  },
  {
   "cell_type": "markdown",
   "id": "2c4eb38a",
   "metadata": {},
   "source": [
    "1- Plot a histogram of the total_bill column from the tips dataset.\n",
    "\n",
    "2- Create a scatterplot of total_bill vs tip and add hue for the sex column.\n",
    "\n",
    "3- Draw a boxplot of total_bill for each day of the week using the tips dataset .\n",
    "\n",
    "4- Create a countplot showing the frequency of each day in the tips dataset.\n",
    "\n",
    "5- Plot a barplot showing the average tip per day.\n",
    "\n",
    "6- Create a KDE plot of petal_length from the iris dataset.\n",
    "\n",
    "7- Use a pairplot on the iris dataset to visualize relationships between all features.\n",
    "\n",
    "8- Plot a violinplot showing the distribution of tip amounts by smoker status.\n",
    "\n",
    "9- Detect outliers in the total_bill column using the IQR method. Display the outliers.\n",
    "\n",
    "10- Create a heatmap of the correlation matrix of the penguins dataset.\n",
    "\n"
   ]
  },
  {
   "cell_type": "markdown",
   "id": "d6625431",
   "metadata": {},
   "source": [
    "# Additional Question (10 Marks)"
   ]
  },
  {
   "cell_type": "markdown",
   "id": "9ed68824",
   "metadata": {},
   "source": [
    "###### Q. Given the following dataset of daily sales (in thousands), identify any outliers using the Interquartile Range (IQR) method. Also, print the lower and upper bounds.\n",
    "\n"
   ]
  },
  {
   "cell_type": "code",
   "execution_count": 2,
   "id": "df64466d-38cf-44c9-b3c7-75ca18ba18b6",
   "metadata": {
    "tags": []
   },
   "outputs": [],
   "source": [
    "Data= [25, 28, 30, 29, 27, 45, 26, 31, 120, 32, 30, 29, 28, 27, 26, 25, 90]"
   ]
  },
  {
   "cell_type": "markdown",
   "id": "edf0ce24",
   "metadata": {},
   "source": [
    "###### Instructions:\n",
    "\n",
    "1- Calculate Q1 (25th percentile) and Q3 (75th percentile)\n",
    "\n",
    "2- Calculate IQR = Q3 - Q1\n",
    "\n",
    "3- Find lower bound = Q1 - 1.5 × IQR\n",
    "\n",
    "4- Find upper bound = Q3 + 1.5 × IQR\n",
    "\n",
    "5 -Identify and list all outliers"
   ]
  },
  {
   "cell_type": "code",
   "execution_count": 3,
   "id": "18da6c63-e5ee-4ddd-a25a-b5b4a35b2340",
   "metadata": {
    "tags": []
   },
   "outputs": [],
   "source": [
    "import pandas as pd\n",
    "\n",
    "df = pd.Series(Data)"
   ]
  },
  {
   "cell_type": "code",
   "execution_count": 10,
   "id": "3260b1c4-1d61-46aa-a52e-5f937371fa7e",
   "metadata": {
    "tags": []
   },
   "outputs": [
    {
     "data": {
      "text/plain": [
       "np.float64(27.0)"
      ]
     },
     "execution_count": 10,
     "metadata": {},
     "output_type": "execute_result"
    }
   ],
   "source": [
    "q1 = df.quantile(0.25)\n",
    "q1"
   ]
  },
  {
   "cell_type": "code",
   "execution_count": 11,
   "id": "fb77405f-8b0e-42ac-9c3f-b2c06a8af5c0",
   "metadata": {
    "tags": []
   },
   "outputs": [
    {
     "data": {
      "text/plain": [
       "np.float64(31.0)"
      ]
     },
     "execution_count": 11,
     "metadata": {},
     "output_type": "execute_result"
    }
   ],
   "source": [
    "q3 = df.quantile(0.75)\n",
    "q3"
   ]
  },
  {
   "cell_type": "code",
   "execution_count": 12,
   "id": "a6491d78-6d02-4cc3-b135-f2f0cb944e8a",
   "metadata": {
    "tags": []
   },
   "outputs": [
    {
     "data": {
      "text/plain": [
       "np.float64(4.0)"
      ]
     },
     "execution_count": 12,
     "metadata": {},
     "output_type": "execute_result"
    }
   ],
   "source": [
    "iqr = q3 - q1\n",
    "iqr"
   ]
  },
  {
   "cell_type": "code",
   "execution_count": 8,
   "id": "9f41b63d-3a9b-4b8a-b396-8d3dadf3afe2",
   "metadata": {
    "tags": []
   },
   "outputs": [
    {
     "data": {
      "text/plain": [
       "np.float64(21.0)"
      ]
     },
     "execution_count": 8,
     "metadata": {},
     "output_type": "execute_result"
    }
   ],
   "source": [
    "lower_bound = q1 - (1.5*iqr)\n",
    "lower_bound"
   ]
  },
  {
   "cell_type": "code",
   "execution_count": 9,
   "id": "b1e97965-1149-4898-a47a-9cc520090c3e",
   "metadata": {
    "tags": []
   },
   "outputs": [
    {
     "data": {
      "text/plain": [
       "np.float64(37.0)"
      ]
     },
     "execution_count": 9,
     "metadata": {},
     "output_type": "execute_result"
    }
   ],
   "source": [
    "upper_bound = q3 + (1.5*iqr)\n",
    "upper_bound"
   ]
  },
  {
   "cell_type": "code",
   "execution_count": 15,
   "id": "782caca4-2f2f-4d46-a739-4f060118bb72",
   "metadata": {
    "tags": []
   },
   "outputs": [
    {
     "data": {
      "text/plain": [
       "Series([], dtype: int64)"
      ]
     },
     "execution_count": 15,
     "metadata": {},
     "output_type": "execute_result"
    }
   ],
   "source": [
    "df[df<lower_bound]"
   ]
  },
  {
   "cell_type": "code",
   "execution_count": 16,
   "id": "71aa26e8-27d3-4fa3-a58a-528e1c73ad29",
   "metadata": {
    "tags": []
   },
   "outputs": [
    {
     "data": {
      "text/plain": [
       "5      45\n",
       "8     120\n",
       "16     90\n",
       "dtype: int64"
      ]
     },
     "execution_count": 16,
     "metadata": {},
     "output_type": "execute_result"
    }
   ],
   "source": [
    "df[df>upper_bound]"
   ]
  }
 ],
 "metadata": {
  "kernelspec": {
   "display_name": "Python 3 (ipykernel)",
   "language": "python",
   "name": "python3"
  },
  "language_info": {
   "codemirror_mode": {
    "name": "ipython",
    "version": 3
   },
   "file_extension": ".py",
   "mimetype": "text/x-python",
   "name": "python",
   "nbconvert_exporter": "python",
   "pygments_lexer": "ipython3",
   "version": "3.11.4"
  }
 },
 "nbformat": 4,
 "nbformat_minor": 5
}
