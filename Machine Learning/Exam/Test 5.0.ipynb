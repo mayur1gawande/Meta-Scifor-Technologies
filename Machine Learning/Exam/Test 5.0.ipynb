{
 "cells": [
  {
   "cell_type": "markdown",
   "id": "7c140275",
   "metadata": {},
   "source": [
    "1. [Problem 1](#problem--defective-items-in-a-factory)\n",
    "2. [Problem 2](#problem--testing-the-claim-about-delivery-time)\n",
    "3. [Problem 3](#problem--fitness-program-impact-analysis)\n",
    "4. [Problem 4](#problem--anova-analysis-of-customer-satisfaction-across-store-branches)\n",
    "5. [Problem 5](#problem--evaluate-forecast-accuracy-using-the-chi-square-goodness-of-fit-test)\n",
    "6. [Problem 6](#problem--manual-covariance-calculation-between-study-hours-and-exam-scores)\n",
    "7. [Problem 7](#problem--manual-correlation-calculation-between-exercise-hours-and-stress-level)"
   ]
  },
  {
   "cell_type": "markdown",
   "id": "481b4b2e-93d6-403a-9d77-49b355e8d70c",
   "metadata": {
    "tags": []
   },
   "source": [
    "##  Problem – Defective Items in a Factory\n",
    "\n",
    "\n",
    "A factory has recorded the number of defective items produced per day over **1000 production days**. The number of defective items per day is randomly generated between **0 and 20** to simulate real-world variability in quality.\n",
    "\n",
    "Using this dataset, calculate the probability that **exactly 5 defective items** will be produced on a new day. Use Python to:\n",
    "\n",
    "- Generate the data  \n",
    "-  Calculate the mean and standard deviation  \n",
    "-  Compute the probability using the normal distribution (with continuity correction)\n",
    "\n",
    "---"
   ]
  },
  {
   "cell_type": "code",
   "execution_count": 1,
   "id": "e4c3fb28-5b39-405f-8f7b-c6226ea2e34f",
   "metadata": {},
   "outputs": [],
   "source": [
    "import numpy as np\n",
    "import scipy as sp \n",
    "import pandas as pd"
   ]
  },
  {
   "cell_type": "code",
   "execution_count": 2,
   "id": "2ef22f25",
   "metadata": {},
   "outputs": [],
   "source": [
    "defective_data = pd.Series(np.random.randint(0,21,1000))"
   ]
  },
  {
   "cell_type": "code",
   "execution_count": 3,
   "id": "7ce09b01",
   "metadata": {},
   "outputs": [
    {
     "data": {
      "text/plain": [
       "np.float64(10.274)"
      ]
     },
     "execution_count": 3,
     "metadata": {},
     "output_type": "execute_result"
    }
   ],
   "source": [
    "defective_data_mean = defective_data.mean()\n",
    "defective_data_mean"
   ]
  },
  {
   "cell_type": "code",
   "execution_count": 4,
   "id": "6382fc10",
   "metadata": {},
   "outputs": [
    {
     "data": {
      "text/plain": [
       "np.float64(6.1237590109690325)"
      ]
     },
     "execution_count": 4,
     "metadata": {},
     "output_type": "execute_result"
    }
   ],
   "source": [
    "defective_data_std = defective_data.std()\n",
    "defective_data_std"
   ]
  },
  {
   "cell_type": "code",
   "execution_count": 5,
   "id": "f574623d",
   "metadata": {},
   "outputs": [],
   "source": [
    "x = 5"
   ]
  },
  {
   "cell_type": "code",
   "execution_count": 6,
   "id": "100c453b",
   "metadata": {},
   "outputs": [
    {
     "data": {
      "text/plain": [
       "np.float64(0.04496017679074441)"
      ]
     },
     "execution_count": 6,
     "metadata": {},
     "output_type": "execute_result"
    }
   ],
   "source": [
    "sp.stats.norm.pdf(x,defective_data_mean,defective_data_std)"
   ]
  },
  {
   "cell_type": "markdown",
   "id": "0e1fe2d1",
   "metadata": {},
   "source": [
    "##  Problem – Testing the Claim About Delivery Time\n",
    "\n",
    "A food delivery company claims that its average delivery time is **30 minutes**. Based on historical data, the **population standard deviation** is known to be **4 minutes**.\n",
    "\n",
    "To evaluate this claim, a consumer rights group decides to test the null hypothesis that the average delivery time is **at most 30 minutes**. They observe a sample of **40 deliveries**, and the average delivery time for the sample comes out to be **31.2 minutes**.\n",
    "\n",
    "### Objective:\n",
    "\n",
    "Test the null hypothesis using the z-test.  \n",
    "- **Null Hypothesis (H₀): μ ≤ 30** (Average delivery time is 30 minutes or less)  \n",
    "- **Alternative Hypothesis (H₁): μ > 30** (Average delivery time is more than 30 minutes)\n",
    "\n",
    "---"
   ]
  },
  {
   "cell_type": "code",
   "execution_count": 7,
   "id": "8e5e3ea5",
   "metadata": {},
   "outputs": [],
   "source": [
    "avg_delivery_time = 30 #claimed\n",
    "delivery_std = 4 #known\n",
    "delivery_size = 40  # sample size\n",
    "delivery_sample_mean = 31.2 #observed\n"
   ]
  },
  {
   "cell_type": "code",
   "execution_count": 8,
   "id": "dcb6014a",
   "metadata": {},
   "outputs": [],
   "source": [
    "z_test_cal = (delivery_sample_mean - avg_delivery_time) / (delivery_std / np.sqrt(delivery_size))"
   ]
  },
  {
   "cell_type": "code",
   "execution_count": 9,
   "id": "b762d05d",
   "metadata": {},
   "outputs": [
    {
     "data": {
      "text/plain": [
       "np.float64(1.8973665961010264)"
      ]
     },
     "execution_count": 9,
     "metadata": {},
     "output_type": "execute_result"
    }
   ],
   "source": [
    "z_test_cal"
   ]
  },
  {
   "cell_type": "code",
   "execution_count": 10,
   "id": "579b51a7",
   "metadata": {},
   "outputs": [
    {
     "name": "stdout",
     "output_type": "stream",
     "text": [
      "Failed to reject Ho \n",
      "Hence, the delivery average time is 30 minutes.\n"
     ]
    }
   ],
   "source": [
    "from_z_table = .9706 # +1.89\n",
    "alpha = 0.05\n",
    "if alpha < from_z_table:\n",
    "    print('Failed to reject Ho \\nHence, the delivery average time is 30 minutes.')"
   ]
  },
  {
   "cell_type": "markdown",
   "id": "2b827f5f",
   "metadata": {},
   "source": [
    "## Problem – Fitness Program Impact Analysis\n",
    "\n",
    "A health and wellness company is evaluating the impact of its **6-week fitness training program**. They collect performance data (in terms of fitness scores out of 100) from participants **before and after** the program.\n",
    "\n",
    "You are provided with a dataset of **150 participants**, with the following information:\n",
    "- **Initial Score** (before the program)\n",
    "- **Final Score** (after the program)\n",
    "- **Gender** of the participant (0 = Female, 1 = Male)\n",
    "\n",
    "---\n",
    "\n",
    "### Your Task:\n",
    "\n",
    "Using the dataset provided below, perform the following statistical tests:\n",
    "\n",
    "1. **One-Sample t-Test**  \n",
    "   Test whether the **average initial fitness score** is at least **65**.\n",
    "\n",
    "2. **Two-Sample Independent t-Test**  \n",
    "   Compare the **initial fitness scores of male and female participants** to check if there's a significant difference.\n",
    "\n",
    "3. **Paired Sample t-Test**  \n",
    "   Test whether the **final scores are significantly higher than the initial scores**, i.e., whether the fitness program had a measurable impact.\n",
    "\n",
    "---"
   ]
  },
  {
   "cell_type": "code",
   "execution_count": 11,
   "id": "968d60d4",
   "metadata": {},
   "outputs": [
    {
     "data": {
      "text/html": [
       "<div>\n",
       "<style scoped>\n",
       "    .dataframe tbody tr th:only-of-type {\n",
       "        vertical-align: middle;\n",
       "    }\n",
       "\n",
       "    .dataframe tbody tr th {\n",
       "        vertical-align: top;\n",
       "    }\n",
       "\n",
       "    .dataframe thead th {\n",
       "        text-align: right;\n",
       "    }\n",
       "</style>\n",
       "<table border=\"1\" class=\"dataframe\">\n",
       "  <thead>\n",
       "    <tr style=\"text-align: right;\">\n",
       "      <th></th>\n",
       "      <th>Gender</th>\n",
       "      <th>Initial_Score</th>\n",
       "      <th>Final_Score</th>\n",
       "    </tr>\n",
       "  </thead>\n",
       "  <tbody>\n",
       "    <tr>\n",
       "      <th>0</th>\n",
       "      <td>0</td>\n",
       "      <td>73.167718</td>\n",
       "      <td>76.049901</td>\n",
       "    </tr>\n",
       "    <tr>\n",
       "      <th>1</th>\n",
       "      <td>0</td>\n",
       "      <td>67.883235</td>\n",
       "      <td>75.156484</td>\n",
       "    </tr>\n",
       "    <tr>\n",
       "      <th>2</th>\n",
       "      <td>1</td>\n",
       "      <td>59.935980</td>\n",
       "      <td>65.727168</td>\n",
       "    </tr>\n",
       "    <tr>\n",
       "      <th>3</th>\n",
       "      <td>1</td>\n",
       "      <td>62.409887</td>\n",
       "      <td>68.352951</td>\n",
       "    </tr>\n",
       "    <tr>\n",
       "      <th>4</th>\n",
       "      <td>1</td>\n",
       "      <td>68.476639</td>\n",
       "      <td>70.330144</td>\n",
       "    </tr>\n",
       "  </tbody>\n",
       "</table>\n",
       "</div>"
      ],
      "text/plain": [
       "   Gender  Initial_Score  Final_Score\n",
       "0       0      73.167718    76.049901\n",
       "1       0      67.883235    75.156484\n",
       "2       1      59.935980    65.727168\n",
       "3       1      62.409887    68.352951\n",
       "4       1      68.476639    70.330144"
      ]
     },
     "execution_count": 11,
     "metadata": {},
     "output_type": "execute_result"
    }
   ],
   "source": [
    "np.random.seed(100)\n",
    "n= 150\n",
    "# Gender (0 = Female, 1 = Male)\n",
    "gender = np.random.choice([0, 1], size=n)\n",
    "initial_scores = np.random.normal(loc=64, scale=6, size=n)\n",
    "final_scores = initial_scores + np.random.normal(loc=5, scale=3, size=n)\n",
    "\n",
    "df = pd.DataFrame({\n",
    "    'Gender': gender,\n",
    "    'Initial_Score': initial_scores,\n",
    "    'Final_Score': final_scores\n",
    "})\n",
    "\n",
    "df.head()"
   ]
  },
  {
   "cell_type": "code",
   "execution_count": 12,
   "id": "6d925650",
   "metadata": {},
   "outputs": [],
   "source": [
    "from scipy.stats import ttest_1samp\n",
    "from scipy.stats import ttest_ind\n",
    "from scipy.stats import ttest_rel"
   ]
  },
  {
   "cell_type": "markdown",
   "id": "9d7bee74",
   "metadata": {},
   "source": [
    "Hypotheses\n",
    "1️⃣ One-Sample t-Test:\n",
    "\n",
    "\n",
    "**Null Hypothesis** H₀: μ ≥ 65 (Average initial score is at least 65)\n",
    "\n",
    "\n",
    "**Alternate Hypothesis** H₁: μ < 65 (Average initial score is less than 65)"
   ]
  },
  {
   "cell_type": "code",
   "execution_count": 13,
   "id": "217bd970",
   "metadata": {},
   "outputs": [
    {
     "data": {
      "text/plain": [
       "TtestResult(statistic=np.float64(-2.298969249023647), pvalue=np.float64(0.022896606501287414), df=np.int64(149))"
      ]
     },
     "execution_count": 13,
     "metadata": {},
     "output_type": "execute_result"
    }
   ],
   "source": [
    "ttest_1samp(df['Initial_Score'],65)"
   ]
  },
  {
   "cell_type": "code",
   "execution_count": 14,
   "id": "662c74f6",
   "metadata": {},
   "outputs": [
    {
     "name": "stdout",
     "output_type": "stream",
     "text": [
      "pvalue is less than alpha\n",
      "Ho is rejected\n"
     ]
    }
   ],
   "source": [
    "alpha = 0.05\n",
    "print('pvalue is less than alpha\\nHo is rejected')"
   ]
  },
  {
   "cell_type": "markdown",
   "id": "62931df2",
   "metadata": {},
   "source": [
    "2️⃣ Two-Sample Independent t-Test:\n",
    "\n",
    "\n",
    "**Null Hypothesis** H₀: μ₁ = μ₂ (No difference in average initial scores between males and females)\n",
    "\n",
    "\n",
    "\n",
    "**Alternate Hypothesis** H₁: μ₁ ≠ μ₂ (There is a difference in average initial scores)"
   ]
  },
  {
   "cell_type": "code",
   "execution_count": 15,
   "id": "b34f2e0c",
   "metadata": {},
   "outputs": [],
   "source": [
    "t,p = ttest_ind(df[df['Gender']==0].Initial_Score, df[df['Gender']==1].Initial_Score)"
   ]
  },
  {
   "cell_type": "code",
   "execution_count": 16,
   "id": "9647cf68",
   "metadata": {},
   "outputs": [
    {
     "name": "stdout",
     "output_type": "stream",
     "text": [
      "p_value: 0.6554764604792216\n",
      "p_value is greater than alpha(0.05)\n",
      "Hence, we failed to reject the Ho\n"
     ]
    }
   ],
   "source": [
    "print(f'p_value: {p}\\np_value is greater than alpha(0.05)\\nHence, we failed to reject the Ho')"
   ]
  },
  {
   "cell_type": "markdown",
   "id": "07527c3f",
   "metadata": {},
   "source": [
    "\n",
    "\n",
    "\n",
    "\n",
    "3️⃣ Paired Sample t-Test:\n",
    "\n",
    "\n",
    "**Null Hypothesis** H₀: μ_diff = 0 (No change in scores before and after the program)\n",
    "\n",
    "\n",
    "\n",
    "\n",
    "**Alternate Hypothesis** H₁: μ_diff < 0 (Final scores are higher than initial scores)"
   ]
  },
  {
   "cell_type": "code",
   "execution_count": 17,
   "id": "c7b49fd2",
   "metadata": {},
   "outputs": [],
   "source": [
    "t,p = ttest_rel(df['Initial_Score'],df['Final_Score'])"
   ]
  },
  {
   "cell_type": "code",
   "execution_count": 18,
   "id": "ed3f464a",
   "metadata": {},
   "outputs": [
    {
     "name": "stdout",
     "output_type": "stream",
     "text": [
      "p_value: 1.1860953013025706e-41\n",
      "p_value is greater than alpha(0.05)\n",
      "Hence, we failed to reject the Ho\n"
     ]
    }
   ],
   "source": [
    "print(f'p_value: {p}\\np_value is greater than alpha(0.05)\\nHence, we failed to reject the Ho')"
   ]
  },
  {
   "cell_type": "code",
   "execution_count": 19,
   "id": "90e9a5e0",
   "metadata": {},
   "outputs": [
    {
     "name": "stdout",
     "output_type": "stream",
     "text": [
      "63.720381942073736\n",
      "68.74279963612699\n"
     ]
    }
   ],
   "source": [
    "print(df['Initial_Score'].mean())\n",
    "print(df['Final_Score'].mean())"
   ]
  },
  {
   "cell_type": "code",
   "execution_count": null,
   "id": "b2172697",
   "metadata": {},
   "outputs": [],
   "source": []
  },
  {
   "cell_type": "markdown",
   "id": "66e3b576",
   "metadata": {},
   "source": [
    "##  Problem – ANOVA Analysis of Customer Satisfaction Across Store Branches\n",
    "\n",
    "A retail company wants to analyze whether the **average customer satisfaction scores** vary significantly across its three store branches: **Branch A, Branch B, and Branch C**.\n",
    "\n",
    "You are provided with data containing:\n",
    "- **Customer_ID**\n",
    "- **Branch** (Categorical Variable)\n",
    "- **Satisfaction_Score** (Continuous Variable on a scale from 0 to 500)\n",
    "\n",
    "---\n",
    "\n",
    "###  Objective:\n",
    "Use **One-Way ANOVA** to test the following hypotheses:\n",
    "\n",
    "- **H₀ (Null Hypothesis)**: The average satisfaction scores across all three branches are **equal**.\n",
    "- **H₁ (Alternative Hypothesis)**: At least one branch has a **different average** satisfaction score."
   ]
  },
  {
   "cell_type": "code",
   "execution_count": 20,
   "id": "3f20a87b",
   "metadata": {},
   "outputs": [
    {
     "data": {
      "text/html": [
       "<div>\n",
       "<style scoped>\n",
       "    .dataframe tbody tr th:only-of-type {\n",
       "        vertical-align: middle;\n",
       "    }\n",
       "\n",
       "    .dataframe tbody tr th {\n",
       "        vertical-align: top;\n",
       "    }\n",
       "\n",
       "    .dataframe thead th {\n",
       "        text-align: right;\n",
       "    }\n",
       "</style>\n",
       "<table border=\"1\" class=\"dataframe\">\n",
       "  <thead>\n",
       "    <tr style=\"text-align: right;\">\n",
       "      <th></th>\n",
       "      <th>Customer_ID</th>\n",
       "      <th>Branch</th>\n",
       "      <th>Satisfaction_Score</th>\n",
       "    </tr>\n",
       "  </thead>\n",
       "  <tbody>\n",
       "    <tr>\n",
       "      <th>0</th>\n",
       "      <td>1</td>\n",
       "      <td>A</td>\n",
       "      <td>434.901425</td>\n",
       "    </tr>\n",
       "    <tr>\n",
       "      <th>1</th>\n",
       "      <td>2</td>\n",
       "      <td>A</td>\n",
       "      <td>415.852071</td>\n",
       "    </tr>\n",
       "    <tr>\n",
       "      <th>2</th>\n",
       "      <td>3</td>\n",
       "      <td>A</td>\n",
       "      <td>439.430656</td>\n",
       "    </tr>\n",
       "    <tr>\n",
       "      <th>3</th>\n",
       "      <td>4</td>\n",
       "      <td>A</td>\n",
       "      <td>465.690896</td>\n",
       "    </tr>\n",
       "    <tr>\n",
       "      <th>4</th>\n",
       "      <td>5</td>\n",
       "      <td>A</td>\n",
       "      <td>412.975399</td>\n",
       "    </tr>\n",
       "  </tbody>\n",
       "</table>\n",
       "</div>"
      ],
      "text/plain": [
       "   Customer_ID Branch  Satisfaction_Score\n",
       "0            1      A          434.901425\n",
       "1            2      A          415.852071\n",
       "2            3      A          439.430656\n",
       "3            4      A          465.690896\n",
       "4            5      A          412.975399"
      ]
     },
     "execution_count": 20,
     "metadata": {},
     "output_type": "execute_result"
    }
   ],
   "source": [
    "np.random.seed(42)\n",
    "n = 70\n",
    "\n",
    "# Create satisfaction scores for three branches\n",
    "branch_a = np.random.normal(loc=420, scale=30, size=n)\n",
    "branch_b = np.random.normal(loc=400, scale=35, size=n)\n",
    "branch_c = np.random.normal(loc=430, scale=25, size=n)\n",
    "\n",
    "data = pd.DataFrame({\n",
    "    'Customer_ID': range(1, n*3 + 1),\n",
    "    'Branch': ['A'] * n + ['B'] * n + ['C'] * n,\n",
    "    'Satisfaction_Score': np.concatenate([branch_a, branch_b, branch_c])\n",
    "})\n",
    "\n",
    "data.head()"
   ]
  },
  {
   "cell_type": "code",
   "execution_count": 21,
   "id": "d77477b2",
   "metadata": {},
   "outputs": [],
   "source": [
    "import statsmodels.formula.api as sm"
   ]
  },
  {
   "cell_type": "code",
   "execution_count": 22,
   "id": "96ee7fa8",
   "metadata": {},
   "outputs": [],
   "source": [
    "model = sm.ols('Satisfaction_Score ~ Branch',data=data).fit()\n"
   ]
  },
  {
   "cell_type": "code",
   "execution_count": 23,
   "id": "44b5093a",
   "metadata": {},
   "outputs": [],
   "source": [
    "import statsmodels.api as smapis"
   ]
  },
  {
   "cell_type": "code",
   "execution_count": 26,
   "id": "9872183d",
   "metadata": {},
   "outputs": [
    {
     "data": {
      "text/html": [
       "<div>\n",
       "<style scoped>\n",
       "    .dataframe tbody tr th:only-of-type {\n",
       "        vertical-align: middle;\n",
       "    }\n",
       "\n",
       "    .dataframe tbody tr th {\n",
       "        vertical-align: top;\n",
       "    }\n",
       "\n",
       "    .dataframe thead th {\n",
       "        text-align: right;\n",
       "    }\n",
       "</style>\n",
       "<table border=\"1\" class=\"dataframe\">\n",
       "  <thead>\n",
       "    <tr style=\"text-align: right;\">\n",
       "      <th></th>\n",
       "      <th>df</th>\n",
       "      <th>sum_sq</th>\n",
       "      <th>mean_sq</th>\n",
       "      <th>F</th>\n",
       "      <th>PR(&gt;F)</th>\n",
       "    </tr>\n",
       "  </thead>\n",
       "  <tbody>\n",
       "    <tr>\n",
       "      <th>Branch</th>\n",
       "      <td>2.0</td>\n",
       "      <td>42018.567984</td>\n",
       "      <td>21009.283992</td>\n",
       "      <td>24.799904</td>\n",
       "      <td>2.212591e-10</td>\n",
       "    </tr>\n",
       "    <tr>\n",
       "      <th>Residual</th>\n",
       "      <td>207.0</td>\n",
       "      <td>175360.431682</td>\n",
       "      <td>847.151844</td>\n",
       "      <td>NaN</td>\n",
       "      <td>NaN</td>\n",
       "    </tr>\n",
       "  </tbody>\n",
       "</table>\n",
       "</div>"
      ],
      "text/plain": [
       "             df         sum_sq       mean_sq          F        PR(>F)\n",
       "Branch      2.0   42018.567984  21009.283992  24.799904  2.212591e-10\n",
       "Residual  207.0  175360.431682    847.151844        NaN           NaN"
      ]
     },
     "execution_count": 26,
     "metadata": {},
     "output_type": "execute_result"
    }
   ],
   "source": [
    "smapis.stats.anova_lm(model,typ=1)"
   ]
  },
  {
   "cell_type": "markdown",
   "id": "ad1812c0",
   "metadata": {},
   "source": [
    "Hence the p_value is very less, we reject the null hypothesis"
   ]
  },
  {
   "cell_type": "code",
   "execution_count": 27,
   "id": "99c917ec",
   "metadata": {},
   "outputs": [
    {
     "name": "stdout",
     "output_type": "stream",
     "text": [
      "Score of branch A =   416.0\n",
      "Score of branch B =   399.0\n",
      "Score of branch C =   434.0\n"
     ]
    }
   ],
   "source": [
    "print(\"Score of branch A =  \",np.ceil(data['Satisfaction_Score'][data['Branch']=='A'].mean()))\n",
    "print(\"Score of branch B =  \",np.ceil(data['Satisfaction_Score'][data['Branch']=='B'].mean()))\n",
    "print(\"Score of branch C =  \",np.ceil(data['Satisfaction_Score'][data['Branch']=='C'].mean()))"
   ]
  },
  {
   "cell_type": "markdown",
   "id": "59223b51",
   "metadata": {},
   "source": [
    "## Problem – Evaluate Forecast Accuracy Using the Chi-Square Goodness of Fit Test\n",
    "\n",
    "The city’s public transportation authority uses a forecasting model to estimate the number of metro passengers for each day of the week. These forecasts help manage train schedules, staffing, and platform operations.\n",
    "\n",
    "Recently, actual passenger counts were collected and compared to the forecasted values to evaluate how well the model performs.\n",
    "\n",
    "---\n",
    "\n",
    "### Question\n",
    "\n",
    "You are provided with the forecasted and observed number of passengers (in thousands) for each day of a week:\n",
    "\n",
    "- **Forecasted Values (Expected):**  \n",
    "  `[95, 110, 100, 130, 160, 210, 230]`\n",
    "\n",
    "- **Observed Values (Actual):**  \n",
    "  `[90, 105, 98, 135, 165, 205, 225]`\n",
    "\n",
    "Using a **Chi-Square Goodness of Fit Test**, determine whether the forecast model provides an accurate estimate of daily passenger traffic.\n",
    "\n",
    "---\n",
    "\n",
    "### Hypotheses\n",
    "\n",
    "- **Null Hypothesis (H₀):** There is no significant difference between the forecasted and observed values (i.e., the model is accurate).\n",
    "- **Alternative Hypothesis (H₁):** There is a significant difference between the forecasted and observed values (i.e., the model is inaccurate).\n",
    "\n",
    "---\n",
    "\n",
    "### Test Parameters\n",
    "\n",
    "- **Significance Level (α):** 0.10  \n",
    "- **Degrees of Freedom (df):** 6  \n",
    "\n",
    "---\n",
    "\n",
    "### Instructions\n",
    "\n",
    "1. **Perform the Chi-Square Goodness of Fit Test** using the given data.\n",
    "2. **Calculate**:\n",
    "   - Chi-Square Test Statistic\n",
    "   - Critical Value at α = 0.10\n",
    "3. **Compare** the test statistic with the critical value.\n",
    "4. **State your conclusion**:\n",
    "   - Do you **reject** or **fail to reject** the null hypothesis?\n",
    "   - What does this imply about the **accuracy of the forecasting model**?\n",
    "\n",
    "---"
   ]
  },
  {
   "cell_type": "code",
   "execution_count": 28,
   "id": "d2411b97",
   "metadata": {},
   "outputs": [],
   "source": [
    "alpha = 0.10\n",
    "dof = 6"
   ]
  },
  {
   "cell_type": "code",
   "execution_count": 29,
   "id": "d199c577",
   "metadata": {},
   "outputs": [],
   "source": [
    "expected = np.array([95, 110, 100, 130, 160, 210, 230])\n",
    "observed = np.array([90, 105, 98, 135, 165, 205, 225])"
   ]
  },
  {
   "cell_type": "code",
   "execution_count": 30,
   "id": "290cd924",
   "metadata": {},
   "outputs": [
    {
     "data": {
      "text/plain": [
       "[np.float64(0.2631578947368421),\n",
       " np.float64(0.22727272727272727),\n",
       " np.float64(0.04),\n",
       " np.float64(0.19230769230769232),\n",
       " np.float64(0.15625),\n",
       " np.float64(0.11904761904761904),\n",
       " np.float64(0.10869565217391304)]"
      ]
     },
     "execution_count": 30,
     "metadata": {},
     "output_type": "execute_result"
    }
   ],
   "source": [
    "chi_value = []\n",
    "for o,e in zip(observed,expected):\n",
    "    value = np.square(o-e)/e\n",
    "    chi_value.append(value)\n",
    "chi_value"
   ]
  },
  {
   "cell_type": "code",
   "execution_count": 31,
   "id": "afec4327",
   "metadata": {},
   "outputs": [],
   "source": [
    "chi_value = np.sum(chi_value)"
   ]
  },
  {
   "cell_type": "code",
   "execution_count": 32,
   "id": "27fae5ea",
   "metadata": {},
   "outputs": [
    {
     "data": {
      "text/plain": [
       "(6, 0.1)"
      ]
     },
     "execution_count": 32,
     "metadata": {},
     "output_type": "execute_result"
    }
   ],
   "source": [
    "dof, alpha"
   ]
  },
  {
   "cell_type": "markdown",
   "id": "4e9fae43",
   "metadata": {},
   "source": [
    "- **Null Hypothesis (H₀):** There is no significant difference between the forecasted and observed values (i.e., the model is accurate).\n",
    "- **Alternative Hypothesis (H₁):** There is a significant difference between the forecasted and observed values (i.e., the model is inaccurate).\n"
   ]
  },
  {
   "cell_type": "code",
   "execution_count": 33,
   "id": "00b2b156",
   "metadata": {},
   "outputs": [
    {
     "data": {
      "text/plain": [
       "np.True_"
      ]
     },
     "execution_count": 33,
     "metadata": {},
     "output_type": "execute_result"
    }
   ],
   "source": [
    "critical_value = 10.645 \n",
    "critical_value > chi_value"
   ]
  },
  {
   "cell_type": "code",
   "execution_count": 34,
   "id": "9869b364",
   "metadata": {},
   "outputs": [
    {
     "name": "stdout",
     "output_type": "stream",
     "text": [
      "As the critical value is greater than chi_value\n",
      "we cannot reject the Ho\n",
      "Hence, the model is accurate\n"
     ]
    }
   ],
   "source": [
    "print('As the critical value is greater than chi_value\\nwe cannot reject the Ho\\nHence, the model is accurate')"
   ]
  },
  {
   "cell_type": "code",
   "execution_count": null,
   "id": "53d590b6",
   "metadata": {},
   "outputs": [],
   "source": []
  },
  {
   "cell_type": "markdown",
   "id": "7b4c1166",
   "metadata": {},
   "source": [
    "## Problem – Manual Covariance Calculation Between Study Hours and Exam Scores\n",
    "\n",
    "A school counselor wants to understand how strongly the number of hours a student studies is related to their exam score.\n",
    "\n",
    "She collected the following data:\n",
    "\n",
    "| Student | Hours_Studied | Exam_Score |\n",
    "|---------|---------------|------------|\n",
    "| A       | 2             | 65         |\n",
    "| B       | 4             | 70         |\n",
    "| C       | 6             | 75         |\n",
    "| D       | 8             | 85         |\n",
    "| E       | 10            | 95         |\n",
    "\n",
    "---\n",
    "\n",
    "###  Objective\n",
    "\n",
    "Manually compute the **covariance** between `Hours_Studied` and `Exam_Score` **without using built-in functions** like `.cov()` or NumPy methods.\n",
    "\n",
    "---"
   ]
  },
  {
   "cell_type": "code",
   "execution_count": 35,
   "id": "36a207fe",
   "metadata": {},
   "outputs": [],
   "source": [
    "hours = np.array([2, 4, 6, 8, 10])\n",
    "scores =np.array( [65, 70, 75, 85, 95])\n",
    "\n",
    "hours_mean = hours.mean()\n",
    "scores_mean = scores.mean()"
   ]
  },
  {
   "cell_type": "code",
   "execution_count": 36,
   "id": "e0bc83a8",
   "metadata": {},
   "outputs": [],
   "source": [
    "for h,s in zip(hours,scores):\n",
    "    numerator = (h-hours_mean)*(s-scores_mean)\n",
    "    covariance = numerator/(len(hours)-1)"
   ]
  },
  {
   "cell_type": "code",
   "execution_count": 37,
   "id": "ec70396f",
   "metadata": {},
   "outputs": [
    {
     "data": {
      "text/plain": [
       "np.float64(17.0)"
      ]
     },
     "execution_count": 37,
     "metadata": {},
     "output_type": "execute_result"
    }
   ],
   "source": [
    "covariance"
   ]
  },
  {
   "cell_type": "markdown",
   "id": "d4226764",
   "metadata": {},
   "source": [
    "shows positive correlation"
   ]
  },
  {
   "cell_type": "code",
   "execution_count": null,
   "id": "4442c093",
   "metadata": {},
   "outputs": [],
   "source": []
  },
  {
   "cell_type": "markdown",
   "id": "9f2c9f91",
   "metadata": {},
   "source": [
    "## Problem – Manual Correlation Calculation Between Exercise Hours and Stress Level\n",
    "\n",
    "A health researcher is analyzing the relationship between how many hours a person exercises per week and their reported stress level (on a scale of 1–100, where higher is more stress).\n",
    "\n",
    "She collects data from 5 participants:\n",
    "\n",
    "| Person | Exercise_Hours | Stress_Level |\n",
    "|--------|----------------|--------------|\n",
    "| A      | 1              | 85           |\n",
    "| B      | 3              | 75           |\n",
    "| C      | 5              | 60           |\n",
    "| D      | 7              | 55           |\n",
    "| E      | 9              | 40           |\n",
    "\n",
    "---\n",
    "\n",
    "###  Objective\n",
    "\n",
    "Manually compute the **Pearson correlation coefficient** between `Exercise_Hours` and `Stress_Level` without using built-in correlation functions.\n",
    "\n",
    "---"
   ]
  },
  {
   "cell_type": "code",
   "execution_count": 38,
   "id": "e1642e3f",
   "metadata": {},
   "outputs": [],
   "source": [
    "exercise = np.array([1, 3, 5, 7, 9])\n",
    "stress =   np.array([85, 75, 60, 55, 40])"
   ]
  },
  {
   "cell_type": "code",
   "execution_count": 39,
   "id": "9a588471",
   "metadata": {},
   "outputs": [],
   "source": [
    "exercise_mean = exercise.mean()\n",
    "stress_mean = stress.mean()"
   ]
  },
  {
   "cell_type": "code",
   "execution_count": 40,
   "id": "e21c00fe",
   "metadata": {},
   "outputs": [
    {
     "name": "stdout",
     "output_type": "stream",
     "text": [
      "Using Pearson Correlation Coefficient:  -0.9918365981341756\n"
     ]
    }
   ],
   "source": [
    "numerator = 0\n",
    "e_sum_sq = 0\n",
    "s_sum_sq = 0\n",
    "for e, s in zip(exercise,stress):\n",
    "    numerator += (e-exercise_mean)*(s-stress_mean)\n",
    "    e_sum_sq += (e-exercise_mean)**2\n",
    "    s_sum_sq += (s-stress_mean)**2\n",
    "\n",
    "correlation = numerator / np.sqrt(e_sum_sq * s_sum_sq)\n",
    "print('Using Pearson Correlation Coefficient: ',correlation)"
   ]
  },
  {
   "cell_type": "markdown",
   "id": "5557233e",
   "metadata": {},
   "source": [
    "There is a strong negative correlation between exercise and stress, meaning the more exercise the less stress"
   ]
  }
 ],
 "metadata": {
  "kernelspec": {
   "display_name": "Python 3",
   "language": "python",
   "name": "python3"
  },
  "language_info": {
   "codemirror_mode": {
    "name": "ipython",
    "version": 3
   },
   "file_extension": ".py",
   "mimetype": "text/x-python",
   "name": "python",
   "nbconvert_exporter": "python",
   "pygments_lexer": "ipython3",
   "version": "3.11.4"
  }
 },
 "nbformat": 4,
 "nbformat_minor": 5
}
