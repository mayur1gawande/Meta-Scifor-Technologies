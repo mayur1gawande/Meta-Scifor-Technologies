{
 "cells": [
  {
   "cell_type": "markdown",
   "id": "c6bb63c0",
   "metadata": {},
   "source": [
    "## Test 2.0\n"
   ]
  },
  {
   "cell_type": "markdown",
   "id": "6e6dd682",
   "metadata": {},
   "source": [
    "# !!Checkout!!\n",
    "## [Click to View answers Directly](#answers)"
   ]
  },
  {
   "cell_type": "markdown",
   "id": "10254b5c",
   "metadata": {},
   "source": [
    "# Functions\n",
    "\n",
    "1- Write a function that takes a number and returns its square.\n",
    "\n",
    "2- Write a function that takes two numbers and returns the larger one.\n",
    "\n",
    "3- Write a function that prints “Welcome to AIML” five times using a loop.\n",
    "\n",
    "4- Write a function that checks if a number is even or odd.\n",
    "\n",
    "5- Create a function that takes a list and returns the sum of all elements.\n",
    "\n"
   ]
  },
  {
   "cell_type": "markdown",
   "id": "698dc343",
   "metadata": {},
   "source": [
    "# Loops\n",
    "1- Write a for loop to print numbers from 1 to 10.\n",
    "\n",
    "2- Write a while loop to print all even numbers between 1 and 20.\n",
    "\n",
    "3- Write a loop to print each character of a given string.\n",
    "\n",
    "4- Write a loop that prints the multiplication table of 5.\n",
    "\n",
    "5- Write a loop that takes a list of numbers and prints only the positive ones.\n",
    "\n"
   ]
  },
  {
   "cell_type": "markdown",
   "id": "13c214b7",
   "metadata": {},
   "source": [
    "#  Try and Except\n",
    "1- Write a function that takes two numbers and divides them. Use try and except to handle divide-by-zero errors.\n",
    "\n",
    "2- Write a program that asks the user for a number and handles the case where the input is not a number using try and except.\n",
    "\n",
    "3- Write a program that opens a file using try, and prints a custom error if the file is not found.\n",
    "\n",
    "4- Create a function that adds two numbers, and raises an error message if one of the inputs is not a number.\n",
    "\n",
    "5- Write a program using try and except to read an integer from the user safely."
   ]
  },
  {
   "cell_type": "markdown",
   "id": "c7922ba5",
   "metadata": {},
   "source": [
    "# Lambda, Map, Filter\n",
    "1- Use a lambda function to add 10 to a given number.\n",
    "\n",
    "2- Use map and lambda to convert a list of numbers into their squares.\n",
    "\n",
    "3- Use filter and lambda to extract even numbers from a list.\n",
    "\n",
    "4- Use map and a lambda to convert a list of lowercase strings to uppercase.\n",
    "\n",
    "5- Use filter and a lambda to find numbers greater than 50 in a given list.\n",
    "\n"
   ]
  },
  {
   "cell_type": "markdown",
   "id": "3cf0ce11",
   "metadata": {},
   "source": [
    "# Variable Scope\n",
    "1- Write a program to show the use of a global variable inside a function.\n",
    "\n",
    "2- Write a program where a local variable inside a function does not affect a global variable with the same name.\n",
    "\n",
    "3- Create a function that modifies a global variable.\n",
    "\n",
    "4- Write two functions, one that sets a local variable and one that accesses a global variable. Print both.\n",
    "\n",
    "5- Write a function where a variable is declared inside the function and show that it cannot be accessed outside."
   ]
  },
  {
   "cell_type": "raw",
   "id": "e3fb195d",
   "metadata": {},
   "source": [
    "Universal Input List \n",
    "You can use this list for most questions that require a list or numeric collection:\n",
    "\n",
    "numbers = [5, -2, 12, 7, 0, 33, -10, 8]\n",
    "words = [\"apple\", \"banana\", \"kiwi\", \"fig\", \"strawberry\", \"grape\"]\n"
   ]
  },
  {
   "cell_type": "raw",
   "id": "9e1bacf0",
   "metadata": {},
   "source": [
    "All the Best"
   ]
  },
  {
   "cell_type": "markdown",
   "id": "95fc4b24",
   "metadata": {},
   "source": [
    "# Answers"
   ]
  },
  {
   "cell_type": "code",
   "execution_count": 1,
   "id": "60094898",
   "metadata": {},
   "outputs": [],
   "source": [
    "numbers = [5, -2, 12, 7, 0, 33, -10, 8]\n",
    "words = [\"apple\", \"banana\", \"kiwi\", \"fig\", \"strawberry\", \"grape\"]"
   ]
  },
  {
   "cell_type": "markdown",
   "id": "a3957b96",
   "metadata": {},
   "source": [
    "## Functions"
   ]
  },
  {
   "cell_type": "code",
   "execution_count": 2,
   "id": "f1e622e6",
   "metadata": {},
   "outputs": [
    {
     "data": {
      "text/plain": [
       "25"
      ]
     },
     "execution_count": 2,
     "metadata": {},
     "output_type": "execute_result"
    }
   ],
   "source": [
    "# 1\n",
    "def square(x):\n",
    "    return x**2\n",
    "square(numbers[0])"
   ]
  },
  {
   "cell_type": "code",
   "execution_count": 3,
   "id": "de27a1c8",
   "metadata": {},
   "outputs": [
    {
     "data": {
      "text/plain": [
       "9"
      ]
     },
     "execution_count": 3,
     "metadata": {},
     "output_type": "execute_result"
    }
   ],
   "source": [
    "# 2 \n",
    "def bigger(x,y):\n",
    "    if x > y:\n",
    "        return x\n",
    "    else:\n",
    "        return y\n",
    "bigger(8,9)"
   ]
  },
  {
   "cell_type": "code",
   "execution_count": 4,
   "id": "a17eb3af",
   "metadata": {},
   "outputs": [
    {
     "name": "stdout",
     "output_type": "stream",
     "text": [
      "Welcome to AIML\n",
      "Welcome to AIML\n",
      "Welcome to AIML\n",
      "Welcome to AIML\n",
      "Welcome to AIML\n"
     ]
    }
   ],
   "source": [
    "# 3\n",
    "def message():\n",
    "    for x in range(5):\n",
    "        print('Welcome to AIML')\n",
    "message()"
   ]
  },
  {
   "cell_type": "code",
   "execution_count": 5,
   "id": "e403c481",
   "metadata": {},
   "outputs": [
    {
     "name": "stdout",
     "output_type": "stream",
     "text": [
      "even\n"
     ]
    }
   ],
   "source": [
    "# 4 \n",
    "def even_or_odd(x):\n",
    "    if x%2==0:\n",
    "        print('even')\n",
    "    else:\n",
    "        print('odd')\n",
    "even_or_odd(numbers[4])"
   ]
  },
  {
   "cell_type": "code",
   "execution_count": 6,
   "id": "b09feb1d",
   "metadata": {},
   "outputs": [
    {
     "data": {
      "text/plain": [
       "53"
      ]
     },
     "execution_count": 6,
     "metadata": {},
     "output_type": "execute_result"
    }
   ],
   "source": [
    "# 5\n",
    "def sum_all(x:list):\n",
    "    sum = 0\n",
    "    for elements in x:\n",
    "        sum += elements\n",
    "    return sum\n",
    "\n",
    "sum_all(numbers)"
   ]
  },
  {
   "cell_type": "markdown",
   "id": "1a5b8582",
   "metadata": {},
   "source": [
    "## Loops"
   ]
  },
  {
   "cell_type": "code",
   "execution_count": 7,
   "id": "01e533bd",
   "metadata": {},
   "outputs": [
    {
     "name": "stdout",
     "output_type": "stream",
     "text": [
      "1\n",
      "2\n",
      "3\n",
      "4\n",
      "5\n",
      "6\n",
      "7\n",
      "8\n",
      "9\n",
      "10\n"
     ]
    }
   ],
   "source": [
    "# 1\n",
    "for x in range(1,11):\n",
    "    print(x)"
   ]
  },
  {
   "cell_type": "code",
   "execution_count": 9,
   "id": "6a1d3506",
   "metadata": {},
   "outputs": [
    {
     "name": "stdout",
     "output_type": "stream",
     "text": [
      "2\n",
      "4\n",
      "6\n",
      "8\n",
      "10\n",
      "12\n",
      "14\n",
      "16\n",
      "18\n",
      "20\n"
     ]
    }
   ],
   "source": [
    "# 2\n",
    "count = 1\n",
    "while count<21:\n",
    "    if count%2==0:\n",
    "        print(count)\n",
    "    count+=1"
   ]
  },
  {
   "cell_type": "code",
   "execution_count": 10,
   "id": "eda16da6",
   "metadata": {},
   "outputs": [
    {
     "name": "stdout",
     "output_type": "stream",
     "text": [
      "a\n",
      "p\n",
      "p\n",
      "l\n",
      "e\n"
     ]
    }
   ],
   "source": [
    "# 3\n",
    "word = words[0]\n",
    "for x in word:\n",
    "    print(x)"
   ]
  },
  {
   "cell_type": "code",
   "execution_count": 11,
   "id": "fdb2ae1b",
   "metadata": {},
   "outputs": [
    {
     "name": "stdout",
     "output_type": "stream",
     "text": [
      "5\n",
      "10\n",
      "15\n",
      "20\n",
      "25\n",
      "30\n",
      "35\n",
      "40\n",
      "45\n",
      "50\n"
     ]
    }
   ],
   "source": [
    "# 4\n",
    "till = 10\n",
    "for x in range(1,till+1):\n",
    "    print(5*x)"
   ]
  },
  {
   "cell_type": "code",
   "execution_count": 12,
   "id": "99dfac37",
   "metadata": {},
   "outputs": [
    {
     "name": "stdout",
     "output_type": "stream",
     "text": [
      "5\n",
      "12\n",
      "7\n",
      "33\n",
      "8\n"
     ]
    }
   ],
   "source": [
    "# 5\n",
    "for x in numbers:\n",
    "    if x > 0:\n",
    "        print(x)"
   ]
  },
  {
   "cell_type": "markdown",
   "id": "1ae47505",
   "metadata": {},
   "source": [
    "## Try and Except"
   ]
  },
  {
   "cell_type": "code",
   "execution_count": 26,
   "id": "687d815c",
   "metadata": {},
   "outputs": [
    {
     "name": "stdout",
     "output_type": "stream",
     "text": [
      "2.0\n",
      "Cannot Divide by zero\n",
      "None\n"
     ]
    }
   ],
   "source": [
    "# 1\n",
    "def divide(dividend,divisor):\n",
    "    try:\n",
    "        quotient = dividend/divisor\n",
    "    except ZeroDivisionError:\n",
    "        print('Cannot Divide by zero')\n",
    "        return None\n",
    "    else:\n",
    "        return quotient\n",
    "a = divide(10,5)\n",
    "print(a)\n",
    "b = divide(10,0)\n",
    "print(b)"
   ]
  },
  {
   "cell_type": "code",
   "execution_count": 27,
   "id": "dd2b7bff",
   "metadata": {},
   "outputs": [
    {
     "name": "stdout",
     "output_type": "stream",
     "text": [
      "Please Enter the number only\n"
     ]
    }
   ],
   "source": [
    "# 2\n",
    "try:\n",
    "    x = int(input('Enter a number'))\n",
    "    print(f'You entered: {x}')\n",
    "except:\n",
    "    print('Please Enter the number only')"
   ]
  },
  {
   "cell_type": "code",
   "execution_count": 28,
   "id": "89b10557",
   "metadata": {},
   "outputs": [
    {
     "name": "stdout",
     "output_type": "stream",
     "text": [
      "File not found\n"
     ]
    }
   ],
   "source": [
    "# 3\n",
    "try:\n",
    "    with open('x.txt','r') as x:\n",
    "        x.readlines()\n",
    "except FileNotFoundError:\n",
    "    print('File not found')\n"
   ]
  },
  {
   "cell_type": "code",
   "execution_count": 33,
   "id": "0090e8fe",
   "metadata": {},
   "outputs": [
    {
     "name": "stdout",
     "output_type": "stream",
     "text": [
      "One of the inputs is not a number\n"
     ]
    }
   ],
   "source": [
    "# 4\n",
    "def add_numbers(num1,num2):\n",
    "    try:\n",
    "        num = num1 + num2\n",
    "        return num\n",
    "    except TypeError:\n",
    "        print('One of the inputs is not a number')\n",
    "\n",
    "add_numbers(3,'g')"
   ]
  },
  {
   "cell_type": "code",
   "execution_count": 78,
   "id": "a1b6d858",
   "metadata": {},
   "outputs": [
    {
     "name": "stdout",
     "output_type": "stream",
     "text": [
      "Invalid value entered, Enter again!\n",
      "Invalid value entered, Enter again!\n",
      "Invalid value entered, Enter again!\n",
      "You Entered: 10\n"
     ]
    }
   ],
   "source": [
    "# 5\n",
    "while True:\n",
    "    try:\n",
    "        num = int(input('Enter the integer: '))\n",
    "        print(f'You Entered: {num}')\n",
    "        break\n",
    "    except:\n",
    "        print('Invalid value entered, Enter again!')"
   ]
  },
  {
   "cell_type": "markdown",
   "id": "285a7cde",
   "metadata": {},
   "source": [
    "## Lambda, Map, Filter"
   ]
  },
  {
   "cell_type": "code",
   "execution_count": 41,
   "id": "10f33d2b",
   "metadata": {},
   "outputs": [
    {
     "name": "stdout",
     "output_type": "stream",
     "text": [
      "20\n",
      "30\n"
     ]
    }
   ],
   "source": [
    "# 1 \n",
    "number = lambda x : x+10\n",
    "print(number(10))\n",
    "print(number(20))"
   ]
  },
  {
   "cell_type": "code",
   "execution_count": 50,
   "id": "8d0b91ec",
   "metadata": {},
   "outputs": [
    {
     "data": {
      "text/plain": [
       "[25, 4, 144, 49, 0, 1089, 100, 64]"
      ]
     },
     "execution_count": 50,
     "metadata": {},
     "output_type": "execute_result"
    }
   ],
   "source": [
    "# 2\n",
    "new_list = list(map(lambda x: x**2 ,numbers))\n",
    "new_list"
   ]
  },
  {
   "cell_type": "code",
   "execution_count": 52,
   "id": "379b24f1",
   "metadata": {},
   "outputs": [
    {
     "data": {
      "text/plain": [
       "[-2, 12, 0, -10, 8]"
      ]
     },
     "execution_count": 52,
     "metadata": {},
     "output_type": "execute_result"
    }
   ],
   "source": [
    "# 3\n",
    "even_list = list(filter(lambda x: x%2==0,numbers))\n",
    "even_list"
   ]
  },
  {
   "cell_type": "code",
   "execution_count": 53,
   "id": "0d2f423b",
   "metadata": {},
   "outputs": [
    {
     "data": {
      "text/plain": [
       "['APPLE', 'BANANA', 'KIWI', 'FIG', 'STRAWBERRY', 'GRAPE']"
      ]
     },
     "execution_count": 53,
     "metadata": {},
     "output_type": "execute_result"
    }
   ],
   "source": [
    "# 4 \n",
    "upper_case = list(map(lambda x : x.upper(),words))\n",
    "upper_case"
   ]
  },
  {
   "cell_type": "code",
   "execution_count": 55,
   "id": "b0b9457f",
   "metadata": {},
   "outputs": [
    {
     "data": {
      "text/plain": [
       "[70, 63, 75, 52]"
      ]
     },
     "execution_count": 55,
     "metadata": {},
     "output_type": "execute_result"
    }
   ],
   "source": [
    "# 5\n",
    "new_numbers = [70,35,63,75,35,42,52,2]\n",
    "greater = list(filter(lambda x : x>50,new_numbers))\n",
    "greater"
   ]
  },
  {
   "cell_type": "markdown",
   "id": "78fd533b",
   "metadata": {},
   "source": [
    "## Variable Scope"
   ]
  },
  {
   "cell_type": "code",
   "execution_count": 60,
   "id": "cbb7bc18",
   "metadata": {},
   "outputs": [
    {
     "name": "stdout",
     "output_type": "stream",
     "text": [
      "6.28\n",
      "78.5\n",
      "314.0\n"
     ]
    }
   ],
   "source": [
    "# 1\n",
    "PI = 3.14 # can be use outside the function\n",
    "print(PI*2)\n",
    "def area_of_circle(radius):\n",
    "    area = PI*(radius**2) # PI can be use inside  the function as well\n",
    "    return area\n",
    "\n",
    "print(area_of_circle(5))\n",
    "print(area_of_circle(10))"
   ]
  },
  {
   "cell_type": "code",
   "execution_count": 65,
   "id": "c31c67fd",
   "metadata": {},
   "outputs": [
    {
     "name": "stdout",
     "output_type": "stream",
     "text": [
      "age limit changed in function:  16\n",
      "No effect at global level:  18\n"
     ]
    }
   ],
   "source": [
    "# 2\n",
    "age_limit = 18\n",
    "\n",
    "def adult():\n",
    "    age_limit = 16\n",
    "    return age_limit\n",
    "print('age limit changed in function: ',adult())\n",
    "print('No effect at global level: ',age_limit)"
   ]
  },
  {
   "cell_type": "code",
   "execution_count": 66,
   "id": "83f85a3a",
   "metadata": {},
   "outputs": [
    {
     "name": "stdout",
     "output_type": "stream",
     "text": [
      "Before changing val:  30\n",
      "After changing val:  76\n"
     ]
    }
   ],
   "source": [
    "# 3\n",
    "NUM = 30\n",
    "\n",
    "def change_NUM(x):\n",
    "    global NUM\n",
    "    NUM =x\n",
    "\n",
    "print('Before changing val: ',NUM)\n",
    "change_NUM(76)\n",
    "print('After changing val: ',NUM)"
   ]
  },
  {
   "cell_type": "code",
   "execution_count": 70,
   "id": "1175681c",
   "metadata": {},
   "outputs": [
    {
     "name": "stdout",
     "output_type": "stream",
     "text": [
      "When age is 19 then:  younger\n",
      "When age is 19 then:  older\n"
     ]
    }
   ],
   "source": [
    "# 4\n",
    "age = 18\n",
    "\n",
    "def limit_20(x):\n",
    "    age = 20\n",
    "    if x > age:\n",
    "        return 'older'\n",
    "    else:\n",
    "        return 'younger'\n",
    "\n",
    "def std_limit(x):\n",
    "    if x > age:\n",
    "        return'older'\n",
    "    else:\n",
    "        return 'younger'\n",
    "\n",
    "print('When age is 19 then: ',limit_20(19))\n",
    "print('When age is 19 then: ',std_limit(19))"
   ]
  },
  {
   "cell_type": "code",
   "execution_count": 77,
   "id": "8760d6bc",
   "metadata": {},
   "outputs": [
    {
     "name": "stdout",
     "output_type": "stream",
     "text": [
      "21\n",
      "Cannot access local variable\n"
     ]
    }
   ],
   "source": [
    "# 5 \n",
    "def count_values(x):\n",
    "    counts = 0\n",
    "    for items in x:\n",
    "        counts+=1\n",
    "    return count\n",
    "\n",
    "print(count_values(numbers))\n",
    "try:\n",
    "    print(counts+10)\n",
    "except:\n",
    "    print('Cannot access local variable')"
   ]
  }
 ],
 "metadata": {
  "kernelspec": {
   "display_name": "Python 3",
   "language": "python",
   "name": "python3"
  },
  "language_info": {
   "codemirror_mode": {
    "name": "ipython",
    "version": 3
   },
   "file_extension": ".py",
   "mimetype": "text/x-python",
   "name": "python",
   "nbconvert_exporter": "python",
   "pygments_lexer": "ipython3",
   "version": "3.11.4"
  }
 },
 "nbformat": 4,
 "nbformat_minor": 5
}
