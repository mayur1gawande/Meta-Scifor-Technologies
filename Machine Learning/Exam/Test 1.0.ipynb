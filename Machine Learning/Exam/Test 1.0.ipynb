{
 "cells": [
  {
   "cell_type": "markdown",
   "id": "b5fe5366",
   "metadata": {},
   "source": [
    "# Test 1.0 (Basic Python)\n",
    "* Mayur Gawande\n"
   ]
  },
  {
   "cell_type": "markdown",
   "id": "1a3110e4",
   "metadata": {},
   "source": [
    "#  List"
   ]
  },
  {
   "cell_type": "markdown",
   "id": "fd2263a0",
   "metadata": {},
   "source": [
    "1- Create an empty list called fruits.\n",
    "\n",
    "2- Add \"apple\" to the fruits list using append().\n",
    "\n",
    "3- Add another list [\"banana\", \"cherry\"] to fruits using extend().\n",
    "\n",
    "4- Remove \"banana\" from the fruits list using remove().\n",
    "\n",
    "5- Remove the last item from fruits using pop().\n",
    "\n",
    "6- Reverse the fruits list using reverse().\n",
    "\n",
    "7- Insert \"mango\" at index 1 in the fruits list using insert().\n",
    "\n",
    "8- Print elements from index 2 to 4 using slicing.\n",
    "\n",
    "9- Create a list of numbers from 1 to 5.\n",
    "\n",
    "10- Print the first and last element of the list using indexing.\n",
    "\n",
    "11- Change the value at index 2 to 10.\n",
    "\n",
    "12- Check if \"grape\" exists in the list fruits, and print a message.\n",
    "\n",
    "13- Use a loop to print all items in the list one by one.\n",
    "\n",
    "14- Use len() to print the number of items in the list.\n",
    "\n"
   ]
  },
  {
   "cell_type": "code",
   "execution_count": null,
   "id": "4630cc7a",
   "metadata": {},
   "outputs": [
    {
     "name": "stdout",
     "output_type": "stream",
     "text": [
      "[]\n",
      "['append']\n",
      "['append', 'banana', 'cherry']\n",
      "['append', 'cherry']\n",
      "['append']\n",
      "['append']\n",
      "[]\n",
      "[1, 2, 3, 4]\n",
      "1\n",
      "4\n",
      "[1, 2, 10, 4]\n",
      "False\n",
      "append\n",
      "mango\n",
      "2\n",
      "4\n"
     ]
    }
   ],
   "source": [
    "# List answers : \n",
    "\n",
    "# 1 \n",
    "fruits = []\n",
    "print(fruits)\n",
    "\n",
    "# 2\n",
    "fruits.append('append')\n",
    "print(fruits)\n",
    "\n",
    "#3\n",
    "fruits.extend(['banana','cherry'])\n",
    "print(fruits)\n",
    "\n",
    "#4\n",
    "fruits.remove('banana')\n",
    "print(fruits)\n",
    "\n",
    "#5\n",
    "fruits.pop()\n",
    "print(fruits)\n",
    "\n",
    "#6\n",
    "fruits.reverse()\n",
    "print(fruits)\n",
    "\n",
    "#7\n",
    "fruits.insert(1,'mango')\n",
    "\n",
    "#8\n",
    "print(fruits[2:4])\n",
    "\n",
    "#9\n",
    "ls = [x for x in range(1,5)]\n",
    "print(ls)\n",
    "\n",
    "#10\n",
    "print(ls[0])\n",
    "print(ls[-1])\n",
    "\n",
    "#11\n",
    "ls[2] = 10\n",
    "print(ls)\n",
    "\n",
    "#12\n",
    "print('grape' in fruits)\n",
    "\n",
    "#13\n",
    "for x in fruits:\n",
    "    print(x)\n",
    "\n",
    "#14\n",
    "print(len(fruits))\n",
    "print(len(ls))"
   ]
  },
  {
   "cell_type": "markdown",
   "id": "06c5be66",
   "metadata": {},
   "source": [
    "# Tuple"
   ]
  },
  {
   "cell_type": "markdown",
   "id": "82dc2cb0",
   "metadata": {},
   "source": [
    "1- Create a tuple of numbers like (1, 2, 3, 2, 4, 2).\n",
    "\n",
    "2- Use count() to find how many times 2 appears.\n",
    "\n",
    "3- Use index() to find the index of the number 4.\n",
    "\n",
    "4- If you want to add an item to a tuple, how will you convert it to a list, append the item, and convert it back to a tuple?\n",
    "\n",
    "5- Create a tuple of 3 strings: \"red\", \"green\", \"blue\".\n",
    "\n",
    "6- Try changing the first item of the tuple — what error do you get?\n",
    "\n",
    "7- Convert this tuple to a list, add a new color, and convert it back to a tuple.\n",
    "\n"
   ]
  },
  {
   "cell_type": "code",
   "execution_count": 6,
   "id": "2ace5dda",
   "metadata": {},
   "outputs": [],
   "source": [
    "# answers : \n",
    "\n",
    "#1\n",
    "tup = (1,2,3,2,4,2)\n",
    "\n",
    "#2\n",
    "tup.count(2)\n",
    "\n",
    "#3\n",
    "tup.index(4)\n",
    "\n",
    "#4\n",
    "'''\n",
    "Convert the tuple into list\n",
    "Use append function to add item\n",
    "Convert the list back to tuple\n",
    "'''\n",
    "tup = list(tup)\n",
    "tup.append(5)\n",
    "tup = tuple(tup)\n",
    "\n",
    "#5\n",
    "new_tup = ('red', 'green', 'blue')\n",
    "\n",
    "#7\n",
    "new_tup = list(new_tup)\n",
    "new_tup.append('yellow')\n",
    "new_tup = tuple(new_tup)"
   ]
  },
  {
   "cell_type": "code",
   "execution_count": 9,
   "id": "3797b91b",
   "metadata": {},
   "outputs": [
    {
     "ename": "TypeError",
     "evalue": "'tuple' object does not support item assignment",
     "output_type": "error",
     "traceback": [
      "\u001b[1;31m---------------------------------------------------------------------------\u001b[0m",
      "\u001b[1;31mTypeError\u001b[0m                                 Traceback (most recent call last)",
      "Cell \u001b[1;32mIn[9], line 5\u001b[0m\n\u001b[0;32m      1\u001b[0m \u001b[38;5;66;03m#6\u001b[39;00m\n\u001b[0;32m      2\u001b[0m \u001b[38;5;124;03m'''\u001b[39;00m\n\u001b[0;32m      3\u001b[0m \u001b[38;5;124;03mTypeError: 'tuple' object does not support item assignment\u001b[39;00m\n\u001b[0;32m      4\u001b[0m \u001b[38;5;124;03m'''\u001b[39;00m\n\u001b[1;32m----> 5\u001b[0m \u001b[43mnew_tup\u001b[49m\u001b[43m[\u001b[49m\u001b[38;5;241;43m2\u001b[39;49m\u001b[43m]\u001b[49m \u001b[38;5;241m=\u001b[39m \u001b[38;5;241m4\u001b[39m\n",
      "\u001b[1;31mTypeError\u001b[0m: 'tuple' object does not support item assignment"
     ]
    }
   ],
   "source": [
    "#6\n",
    "'''\n",
    "TypeError: 'tuple' object does not support item assignment\n",
    "'''\n",
    "new_tup[2] = 4"
   ]
  },
  {
   "cell_type": "markdown",
   "id": "c60ddf0c",
   "metadata": {},
   "source": [
    "# Set"
   ]
  },
  {
   "cell_type": "markdown",
   "id": "82a76072",
   "metadata": {},
   "source": [
    "1- Create an empty set called my_set.\n",
    "\n",
    "2- Add \"apple\" and \"banana\" to my_set using add().\n",
    "\n",
    "3- Do sets allow duplicate values? Explain with an example.\n",
    "\n",
    "4- Create two sets:\n",
    "set1 = {1, 2, 3}\n",
    "set2 = {3, 4, 5}\n",
    "Find the union and intersection of the sets.\n",
    "\n",
    "5- Remove an item from a set using discard().\n",
    "\n",
    "6- Use a loop to print all elements in a set."
   ]
  },
  {
   "cell_type": "code",
   "execution_count": 16,
   "id": "ba556f4a",
   "metadata": {},
   "outputs": [
    {
     "name": "stdout",
     "output_type": "stream",
     "text": [
      "{'apple', 'banana'}\n",
      "{'apple', 'banana'}\n",
      "{1, 2, 3, 4, 5}\n",
      "{3}\n",
      "1\n",
      "2\n",
      "3\n"
     ]
    }
   ],
   "source": [
    "#answers \n",
    "\n",
    "#1\n",
    "my_set = set()\n",
    "\n",
    "#2\n",
    "my_set.add('banana')\n",
    "my_set.add('apple')\n",
    "print(my_set)\n",
    "\n",
    "#3\n",
    "'''Sets do not allow the duplicate values\n",
    "Using add() to add the duplicate values in set will make no effect'''\n",
    "my_set.add('apple')\n",
    "print(my_set)\n",
    "\n",
    "#4\n",
    "set1 = {1,2,3}\n",
    "set2 = {3,4,5}\n",
    "\n",
    "print(set1.union(set2))\n",
    "print(set1.intersection(set2))\n",
    "\n",
    "#5\n",
    "my_set.discard('banana')\n",
    "\n",
    "#6\n",
    "for x in set1:\n",
    "    print(x)"
   ]
  },
  {
   "cell_type": "markdown",
   "id": "baa9de5d",
   "metadata": {},
   "source": [
    "# Dictionary"
   ]
  },
  {
   "cell_type": "markdown",
   "id": "b026602a",
   "metadata": {},
   "source": [
    "1- Create a dictionary with a key \"name\" and value \"Ali\".\n",
    "\n",
    "2- Access the value of the key \"name\".\n",
    "\n",
    "3- Add a new key \"age\" with the value 25.\n",
    "\n",
    "4- Update the value of \"name\" to \"Ahmed\".\n",
    "\n",
    "5- Create a dictionary of a student: {\"name\": \"Sara\", \"grade\": \"A\", \"age\": 17}\n",
    "\n",
    "6- Print all keys in the dictionary.\n",
    "\n",
    "7- Print all values in the dictionary.\n",
    "\n",
    "8- Check if \"grade\" key exists in the dictionary.\n",
    "\n",
    "9- Loop through the dictionary and print each key and its value."
   ]
  },
  {
   "cell_type": "code",
   "execution_count": null,
   "id": "b3009c30",
   "metadata": {},
   "outputs": [
    {
     "name": "stdout",
     "output_type": "stream",
     "text": [
      "Ali\n",
      "dict_keys(['name', 'grade', 'age'])\n",
      "dict_values(['Sara', 'A', 17])\n",
      "True\n",
      "Key: name , Value: Ahmed\n",
      "Key: age , Value: 25\n"
     ]
    }
   ],
   "source": [
    "#answers:\n",
    "\n",
    "#1\n",
    "dict = {'name':'Ali'}\n",
    "\n",
    "#2\n",
    "print(dict['name'])\n",
    "\n",
    "#3\n",
    "dict['age'] = 25\n",
    "\n",
    "#4\n",
    "dict['name'] = 'Ahmed'\n",
    "\n",
    "#5\n",
    "student = {'name':'Sara',\n",
    "           'grade':'A',\n",
    "           'age':17}\n",
    "\n",
    "#6\n",
    "print(student.keys())\n",
    "\n",
    "#7\n",
    "print(student.values())\n",
    "\n",
    "#8\n",
    "print('grade' in student.keys())\n",
    "\n",
    "#9\n",
    "for key,value in dict.items():\n",
    "    print('Key:',key,', Value:',value)\n",
    "\n"
   ]
  },
  {
   "cell_type": "markdown",
   "id": "e9ebdc38",
   "metadata": {},
   "source": [
    "# If-Elif-Else"
   ]
  },
  {
   "cell_type": "raw",
   "id": "524b0516",
   "metadata": {},
   "source": [
    "numbers = [5, 10, 15, 20, 25]"
   ]
  },
  {
   "cell_type": "markdown",
   "id": "2b080c16",
   "metadata": {},
   "source": [
    "1- Check if 10 is in the list. If it is, print \"Found 10\", otherwise print \"10 not found\".\n",
    "\n",
    "2- Write a condition: If any number is greater than 20, print \"Large number\", else print \"Small number\".\n",
    "\n"
   ]
  },
  {
   "cell_type": "code",
   "execution_count": 34,
   "id": "67915dc9",
   "metadata": {},
   "outputs": [
    {
     "name": "stdout",
     "output_type": "stream",
     "text": [
      "Found 10\n",
      "Larger Number\n"
     ]
    }
   ],
   "source": [
    "numbers = [5, 10, 15, 20, 25]\n",
    "#answers\n",
    "\n",
    "#1\n",
    "if 10 in numbers:\n",
    "    print('Found 10')\n",
    "else:\n",
    "    print('10 not found')\n",
    "\n",
    "#2\n",
    "if 20 < max(numbers):\n",
    "    print('Larger Number')\n",
    "else:\n",
    "    print('Small Number')"
   ]
  },
  {
   "cell_type": "markdown",
   "id": "37b86d19",
   "metadata": {},
   "source": [
    "# Simple Expression"
   ]
  },
  {
   "cell_type": "markdown",
   "id": "590b5937",
   "metadata": {},
   "source": [
    "1- Given a = 5, b = 10 Print the results of: a + b, a * b, b - a, and b / a.\n",
    "\n",
    "2- Write an expression to calculate (a + b) * 2 and print the result.\n",
    "\n",
    "3- Write a program that takes age as input from the user and checks:\n",
    "\n",
    "4- If age >= 18, print \"You are an adult\", Otherwise, print \"You are a minor\""
   ]
  },
  {
   "cell_type": "code",
   "execution_count": null,
   "id": "028fac19",
   "metadata": {},
   "outputs": [
    {
     "name": "stdout",
     "output_type": "stream",
     "text": [
      "15\n",
      "50\n",
      "5\n",
      "2.0\n",
      "30\n",
      "Age entered:  21\n",
      "You are an adult\n"
     ]
    }
   ],
   "source": [
    "#answers\n",
    "\n",
    "#1\n",
    "a = 5\n",
    "b = 10\n",
    "print(a+b)\n",
    "print(a*b)\n",
    "print(b-a)\n",
    "print(b/a)\n",
    "\n",
    "#2\n",
    "result = (a+b)*2\n",
    "print(result)\n",
    "\n",
    "# 3 and 4 \n",
    "age = int(input('Enter the age: '))\n",
    "print('Age entered: ',age)\n",
    "if age>= 18:\n",
    "    print('You are an adult')\n",
    "else:\n",
    "    print('You are a minor')\n"
   ]
  },
  {
   "cell_type": "markdown",
   "id": "1e845f1a",
   "metadata": {},
   "source": [
    "# More Expression Questions"
   ]
  },
  {
   "cell_type": "markdown",
   "id": "080b9bab",
   "metadata": {},
   "source": [
    "1- Calculate the area of a rectangle with width = 5 and height = 10. (Formula: area = width * height)\n",
    "\n",
    "2- Write an expression that converts Celsius to Fahrenheit:\n",
    "F = (C * 9/5) + 32, where C = 25.\n",
    "\n",
    "3- Write a simple interest formula:\n",
    "SI = (P * R * T) / 100, where P=1000, R=5, T=2"
   ]
  },
  {
   "cell_type": "code",
   "execution_count": 30,
   "id": "f79dc6a1",
   "metadata": {},
   "outputs": [
    {
     "name": "stdout",
     "output_type": "stream",
     "text": [
      "77.0\n",
      "100.0\n"
     ]
    }
   ],
   "source": [
    "#1\n",
    "width = 5\n",
    "height = 10\n",
    "\n",
    "area = width*height\n",
    "\n",
    "#2\n",
    "C = 25\n",
    "F= (C*9/5)+32\n",
    "print(F)\n",
    "\n",
    "#3\n",
    "P = 1000\n",
    "R = 5\n",
    "T = 2\n",
    "SI =(P*R*T)/100\n",
    "print(SI)"
   ]
  },
  {
   "cell_type": "markdown",
   "id": "93c1b2a0",
   "metadata": {},
   "source": [
    "# Range Function"
   ]
  },
  {
   "cell_type": "markdown",
   "id": "11b3f55b",
   "metadata": {},
   "source": [
    "1- Use range() to print numbers from 0 to 4.\n",
    "\n",
    "2- Use range(1, 6) to print numbers from 1 to 5.\n",
    "\n",
    "3- Use a for loop with range(5) to print \"Hello\" 5 times.\n",
    "\n",
    "4- Use range(2, 11, 2) to print even numbers from 2 to 10.\n",
    "\n",
    "5- Use range(10, 0, -1) to print numbers from 10 to 1 in reverse order.\n",
    "\n",
    "6- Store a range(3, 8) in a list and print that list.\n",
    "\n",
    "7- Use range() inside a loop to print squares of numbers from 1 to 5.\n",
    "\n"
   ]
  },
  {
   "cell_type": "code",
   "execution_count": 33,
   "id": "952ded63",
   "metadata": {},
   "outputs": [
    {
     "name": "stdout",
     "output_type": "stream",
     "text": [
      "0\n",
      "1\n",
      "2\n",
      "3\n",
      "1\n",
      "2\n",
      "3\n",
      "4\n",
      "5\n",
      "Hello\n",
      "Hello\n",
      "Hello\n",
      "Hello\n",
      "Hello\n",
      "2\n",
      "4\n",
      "6\n",
      "8\n",
      "10\n",
      "10\n",
      "9\n",
      "8\n",
      "7\n",
      "6\n",
      "5\n",
      "4\n",
      "3\n",
      "2\n",
      "1\n",
      "[2, 3, 4, 5, 6, 7]\n",
      "1\n",
      "4\n",
      "9\n",
      "16\n",
      "25\n"
     ]
    }
   ],
   "source": [
    "#ANSWERS\n",
    "\n",
    "#1\n",
    "for x in range(0,4):\n",
    "    print(x)\n",
    "\n",
    "#2\n",
    "for x in range(1,6):\n",
    "    print(x)\n",
    "\n",
    "#3\n",
    "for x in range(5):\n",
    "    print('Hello')\n",
    "\n",
    "#4\n",
    "for x in range(2,11,2):\n",
    "    print(x)\n",
    "\n",
    "#5\n",
    "for x in range(10,0,-1):\n",
    "    print(x)\n",
    "\n",
    "#6\n",
    "list = []\n",
    "for x in range(2,8):\n",
    "    list.append(x)\n",
    "print(list)\n",
    "\n",
    "#7\n",
    "for x in range(1,6):\n",
    "    print(x**2)"
   ]
  },
  {
   "cell_type": "raw",
   "id": "cd66d971",
   "metadata": {},
   "source": [
    "All the Best \n",
    "Submit Before Saturday 12 PM"
   ]
  }
 ],
 "metadata": {
  "kernelspec": {
   "display_name": "Python 3",
   "language": "python",
   "name": "python3"
  },
  "language_info": {
   "codemirror_mode": {
    "name": "ipython",
    "version": 3
   },
   "file_extension": ".py",
   "mimetype": "text/x-python",
   "name": "python",
   "nbconvert_exporter": "python",
   "pygments_lexer": "ipython3",
   "version": "3.11.4"
  }
 },
 "nbformat": 4,
 "nbformat_minor": 5
}
