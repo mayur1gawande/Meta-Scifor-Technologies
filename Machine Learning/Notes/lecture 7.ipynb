{
 "cells": [
  {
   "cell_type": "code",
   "execution_count": 3,
   "id": "56ac925f",
   "metadata": {},
   "outputs": [],
   "source": [
    "class Account:\n",
    "    def __init__(self,first_name:str,last_name:str,city:str,user_id,password,phone:int): #instead of self you can write anything such as (sachin, clf etc.)\n",
    "        self.first_name = first_name\n",
    "        self.last_name = last_name\n",
    "        self.city = city\n",
    "        self.user_id = user_id\n",
    "        self.password = password\n",
    "        self.phone = phone\n",
    "\n",
    "    def show_details(self):\n",
    "        print(self.first_name)\n",
    "        print(self.last_name )\n",
    "        print(self.city)\n",
    "        print(self.user_id)\n",
    "        print(self.password)\n",
    "        print(self.phone)"
   ]
  },
  {
   "cell_type": "code",
   "execution_count": 4,
   "id": "b97bb9d1",
   "metadata": {},
   "outputs": [],
   "source": [
    "a = Account('ramesh','verma','wardha','123xyz','123456','991234')"
   ]
  },
  {
   "cell_type": "code",
   "execution_count": 5,
   "id": "8964ae3f",
   "metadata": {},
   "outputs": [
    {
     "name": "stdout",
     "output_type": "stream",
     "text": [
      "ramesh\n",
      "verma\n",
      "wardha\n",
      "123xyz\n",
      "123456\n",
      "991234\n"
     ]
    }
   ],
   "source": [
    "a.show_details()"
   ]
  },
  {
   "cell_type": "code",
   "execution_count": null,
   "id": "069c4a94",
   "metadata": {},
   "outputs": [],
   "source": [
    "class Account:\n",
    "    def __init__(self,first_name=input('Enter your First Name'),\n",
    "                      last_name=input('Enter your Last Name'),\n",
    "                      city=input('Enter your City'),\n",
    "                      user_id=input('Enter your User_id'),\n",
    "                      password=input('Enter your Password'),\n",
    "                      phone=input('Enter your Number')): #instead of self you can write anything such as (sachin, clf etc.)\n",
    "        self.first_name = first_name\n",
    "        self.last_name = last_name\n",
    "        self.city = city\n",
    "        self.user_id = user_id\n",
    "        self.password = password\n",
    "        self.phone = phone\n",
    "    \n",
    "    def login(self):\n",
    "        while True:\n",
    "            user_ids = input('Enter your User ID')\n",
    "            passwords = input('Enter your Password')\n",
    "\n",
    "            if user_ids == self.user_id and passwords == self.password:\n",
    "                print('Login Successfully')\n",
    "                break\n",
    "            else:\n",
    "                print('You have entered the wrong password or user_id')\n",
    "                continue\n",
    "\n"
   ]
  },
  {
   "cell_type": "code",
   "execution_count": 7,
   "id": "d08e0815",
   "metadata": {},
   "outputs": [],
   "source": [
    "c = Account()"
   ]
  },
  {
   "cell_type": "code",
   "execution_count": 9,
   "id": "6f410ad4",
   "metadata": {},
   "outputs": [
    {
     "name": "stdout",
     "output_type": "stream",
     "text": [
      "You have entered the wrong password or user_id\n",
      "Login Successfully\n"
     ]
    }
   ],
   "source": [
    "c.login()"
   ]
  },
  {
   "cell_type": "code",
   "execution_count": null,
   "id": "0459c5ec",
   "metadata": {},
   "outputs": [],
   "source": [
    "class User_Account(Account):\n",
    "    def __init__(self,account_number,balance,*args):\n",
    "        super(User_Account,self).__init__(*args)\n",
    "        self.account_number = account_number\n",
    "        self.balance = balance\n",
    "    \n",
    "    def user_details(self):\n",
    "        while True:\n",
    "            account  = int(input('Enter Your Account Number'))\n",
    "            if account == self.account_number:\n",
    "                print('Name : ',self.first_name)\n",
    "                print('Account number : ',account)\n",
    "                print('Balance : ',self.balance)\n",
    "                break\n",
    "            else:\n",
    "                print('You have entered incorrect account number')\n",
    "                continue\n",
    "    \n",
    "    def deposit(self):\n",
    "        print('Your Current Balance is',self.balance)\n",
    "        add_cash = int(input('Enter Amount : '))\n",
    "        self.balance += add_cash\n",
    "        print('Balance Added')\n",
    "        print('Current Balance : ',self.balance)\n",
    "\n",
    "    def withdraw(self):\n",
    "        print('Your current Balance is : ',self.balance)\n",
    "        withdrawal = int(input('Enter Amount'))\n",
    "        if self.balance >= withdrawal:\n",
    "            self.balance -= withdrawal\n",
    "            print('Amount Withdrawed: ',withdrawal)\n",
    "            print('Current Balance is : ',self.balance)\n",
    "        else:\n",
    "            print('Alert!, The withdrawal amount cannot be greater than the current bank balance')\n",
    "\n",
    "\n"
   ]
  },
  {
   "cell_type": "code",
   "execution_count": 14,
   "id": "a83e7a36",
   "metadata": {},
   "outputs": [],
   "source": [
    "bank = User_Account(5555,0)"
   ]
  },
  {
   "cell_type": "code",
   "execution_count": 15,
   "id": "86c3ef4b",
   "metadata": {},
   "outputs": [
    {
     "name": "stdout",
     "output_type": "stream",
     "text": [
      "Name :  Mayur\n",
      "Account number :  5555\n",
      "Balance :  0\n"
     ]
    }
   ],
   "source": [
    "bank.user_details()"
   ]
  },
  {
   "cell_type": "code",
   "execution_count": 16,
   "id": "5f6f9954",
   "metadata": {},
   "outputs": [
    {
     "name": "stdout",
     "output_type": "stream",
     "text": [
      "Your Current Balance is 0\n",
      "Balance Added\n",
      "Current Balance :  1000\n"
     ]
    }
   ],
   "source": [
    "bank.deposit()"
   ]
  },
  {
   "cell_type": "code",
   "execution_count": 17,
   "id": "ed9a8662",
   "metadata": {},
   "outputs": [
    {
     "name": "stdout",
     "output_type": "stream",
     "text": [
      "Your current Balance is :  1000\n",
      "Amount Withdrawed:  500\n",
      "Current Balance is 500\n"
     ]
    }
   ],
   "source": [
    "bank.withdraw()"
   ]
  },
  {
   "cell_type": "markdown",
   "id": "61125682",
   "metadata": {},
   "source": [
    "# Encapsulation"
   ]
  },
  {
   "cell_type": "code",
   "execution_count": 30,
   "id": "a3b67e34",
   "metadata": {},
   "outputs": [],
   "source": [
    "class Tyres:\n",
    "    def __init__(self,branch,belted_bias,opt_pressure):\n",
    "        self.branch = branch\n",
    "        self.belted_bias = belted_bias\n",
    "        self.opt_pressure = opt_pressure\n",
    "    \n",
    "    def __str__(self):\n",
    "        return(f'''\n",
    "Tyre:\n",
    "    Branch: {self.branch}\n",
    "    Belted_Bias: {self.belted_bias}\n",
    "    Opt_Pressure: {self.opt_pressure}\n",
    "               ''')\n",
    "    \n",
    "class Engine:\n",
    "    def __init__(self,fuel_type,noise_level):\n",
    "        self.fuel_type = fuel_type\n",
    "        self.noise_level = noise_level\n",
    "    \n",
    "    def __str__(self):\n",
    "        return(f'''\n",
    "Engine:\n",
    "    Fuel Type: {self.fuel_type}\n",
    "    Noise Level: {self.noise_level}\n",
    "               ''')\n",
    "\n",
    "class Body:\n",
    "    def __init__(self,Type):\n",
    "        self.type = Type\n",
    "    def __str__(self):\n",
    "        return(f'''\n",
    "Body:\n",
    "    Branch: {self.type}\n",
    "               ''')\n",
    "\n",
    "class Car:\n",
    "    def __init__(self,Tyres,Engine,Body):\n",
    "        self.Tyres = Tyres\n",
    "        self.Engine = Engine\n",
    "        self.Body = Body\n",
    "    \n",
    "    def __str__(self):\n",
    "        return(f'''\n",
    "Car: \n",
    "    \\t{self.Tyres}\n",
    "    \\t{self.Engine}\n",
    "    \\t{self.Body}\n",
    "               ''')"
   ]
  },
  {
   "cell_type": "code",
   "execution_count": 31,
   "id": "52029662",
   "metadata": {},
   "outputs": [
    {
     "name": "stdout",
     "output_type": "stream",
     "text": [
      "\n",
      "Car: \n",
      "    \t\n",
      "Tyre:\n",
      "    Branch: MRF\n",
      "    Belted_Bias: True\n",
      "    Opt_Pressure: 34\n",
      "               \n",
      "    \t\n",
      "Engine:\n",
      "    Fuel Type: petrol\n",
      "    Noise Level: 2.3\n",
      "               \n",
      "    \t\n",
      "Body:\n",
      "    Branch: sedan\n",
      "               \n",
      "               \n"
     ]
    }
   ],
   "source": [
    "t=Tyres(\"MRF\",True,34)\n",
    "e=Engine(\"petrol\",2.3)\n",
    "b=Body(\"sedan\")\n",
    "c=Car(t,e,b)\n",
    "print(c)"
   ]
  },
  {
   "cell_type": "code",
   "execution_count": 32,
   "id": "8a413f40",
   "metadata": {},
   "outputs": [
    {
     "data": {
      "text/plain": [
       "'petrol'"
      ]
     },
     "execution_count": 32,
     "metadata": {},
     "output_type": "execute_result"
    }
   ],
   "source": [
    "c.Engine.fuel_type"
   ]
  }
 ],
 "metadata": {
  "kernelspec": {
   "display_name": "Python 3",
   "language": "python",
   "name": "python3"
  },
  "language_info": {
   "codemirror_mode": {
    "name": "ipython",
    "version": 3
   },
   "file_extension": ".py",
   "mimetype": "text/x-python",
   "name": "python",
   "nbconvert_exporter": "python",
   "pygments_lexer": "ipython3",
   "version": "3.11.4"
  }
 },
 "nbformat": 4,
 "nbformat_minor": 5
}
